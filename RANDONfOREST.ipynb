{
 "cells": [
  {
   "cell_type": "markdown",
   "id": "ede2ce1c",
   "metadata": {},
   "source": [
    "# Coleta de dados"
   ]
  },
  {
   "cell_type": "code",
   "execution_count": null,
   "id": "2ca3bbf4",
   "metadata": {},
   "outputs": [],
   "source": [
    "import pandas as pd\n",
    "import numpy as np\n",
    "import nltk\n",
    "import re\n",
    "from nltk.corpus import stopwords\n",
    "from nltk.stem import RSLPStemmer\n",
    "from nltk.tokenize import word_tokenize\n",
    "from sklearn.feature_extraction.text import TfidfVectorizer, CountVectorizer\n",
    "from sklearn.naive_bayes import MultinomialNB\n",
    "# Classes do modelo\n",
    "from sklearn.neighbors import KNeighborsClassifier\n",
    "from sklearn.ensemble import RandomForestClassifier\n",
    "from sklearn.ensemble import RandomForestClassifier\n",
    "from sklearn.metrics import classification_report\n",
    "from sklearn.model_selection import train_test_split \n",
    "nltk.download('rslp')\n",
    "nltk.download('stopwords')"
   ]
  },
  {
   "cell_type": "code",
   "execution_count": null,
   "id": "e39e4a26",
   "metadata": {},
   "outputs": [],
   "source": [
    "dataset = pd.read_csv(\"datasets/reviews.csv\")"
   ]
  },
  {
   "cell_type": "markdown",
   "id": "bc050296",
   "metadata": {},
   "source": [
    "# Pré-Processamento dos Dados"
   ]
  },
  {
   "cell_type": "markdown",
   "id": "29a28142",
   "metadata": {},
   "source": [
    "## Definindo Tipos"
   ]
  },
  {
   "cell_type": "code",
   "execution_count": null,
   "id": "8a0d9674",
   "metadata": {},
   "outputs": [],
   "source": [
    "dataset.head(5)"
   ]
  },
  {
   "cell_type": "code",
   "execution_count": null,
   "id": "57097874",
   "metadata": {},
   "outputs": [],
   "source": [
    "\n",
    "stopword = stopwords.words(\"portuguese\")\n",
    "stem = RSLPStemmer()\n",
    "vectorizer = TfidfVectorizer()\n",
    "def clear(review):\n",
    "  review = review.lower()\n",
    "  # remove pula de linha \n",
    "  review = re.sub('\\n', ' ', review)        \n",
    "  review = re.sub('\\r', ' ', review)\n",
    "\n",
    "  # remove numero \n",
    "  review = re.sub(r'\\d+(?:\\.\\d*(?:[eE]\\d+))?', ' #numero ', review)\n",
    "\n",
    "  # remove caracters especiais \n",
    "  review = re.sub(r'R\\$', ' ', review)\n",
    "  review = re.sub(r'\\W', ' ', review)\n",
    "  review = re.sub(r'\\s+', ' ', review)\n",
    "\n",
    "  # remove links \n",
    "  urls = re.findall('(http|ftp|https)://([\\w_-]+(?:(?:\\.[\\w_-]+)+))([\\w.,@?^=%&:/~+#-]*[\\w@?^=%&/~+#-])?', review)\n",
    "  if len(urls) > 0:\n",
    "      for url in urls:\n",
    "          for link in url:\n",
    "              review = review.replace(link, '')\n",
    "      review = review.replace(':', '')\n",
    "      review = review.replace('/', '')\n",
    "  return review\n",
    "reviews = dataset[\"review_comment_message\"]\n",
    "reviews = reviews.apply(lambda review: clear(review))\n",
    "reviews = reviews.apply(lambda review: word_tokenize(review))\n",
    "reviews = reviews.apply(lambda words_review: [word for word in words_review if word not in stopword])\n",
    "reviews = reviews.apply(lambda words_review: [stem.stem(word) for word in words_review ])\n",
    "reviews = reviews.apply(lambda words_review: \" \".join(words_review))\n",
    "reviews = vectorizer.fit_transform(reviews)\n",
    "reviews\n"
   ]
  },
  {
   "cell_type": "code",
   "execution_count": null,
   "id": "b50198f8",
   "metadata": {},
   "outputs": [],
   "source": [
    "X = reviews.copy()\n",
    "y = dataset[\"review_score\"].copy()\n",
    "y = np.array(y)"
   ]
  },
  {
   "cell_type": "code",
   "execution_count": null,
   "id": "c99085bb",
   "metadata": {},
   "outputs": [],
   "source": [
    "X_train, X_test, y_train, y_test = train_test_split(X, y, test_size=0.3, random_state = 199)\n"
   ]
  },
  {
   "cell_type": "code",
   "execution_count": null,
   "id": "ea944535",
   "metadata": {},
   "outputs": [],
   "source": [
    "# vamos criar um classificador RandonForest:\n",
    "model_RF= RandomForestClassifier(n_estimators=10, random_state=42)\n",
    "model_RF.fit(X_train, y_train)\n",
    "\n",
    "# e ver a sua performance no dataset de teste\n",
    "print(classification_report(y_test, model_RF.predict(X_test)))\n"
   ]
  },
  {
   "cell_type": "code",
   "execution_count": null,
   "id": "6618bf7b",
   "metadata": {},
   "outputs": [],
   "source": [
    "from sklearn import metrics\n",
    "\n",
    "k_range=range(1,35)\n",
    "scores=[]\n",
    "\n",
    "for k in k_range:\n",
    "    \n",
    "    RF= RandomForestClassifier(n_estimators=k, random_state=42)\n",
    "    RF.fit(X_train, y_train)\n",
    "    y_pred=RF.predict(X_test)\n",
    "    scores.append(metrics.accuracy_score(y_test, y_pred))    "
   ]
  },
  {
   "cell_type": "code",
   "execution_count": null,
   "id": "0456783d",
   "metadata": {},
   "outputs": [],
   "source": [
    "max(scores)"
   ]
  },
  {
   "cell_type": "code",
   "execution_count": null,
   "id": "7ac4e0df",
   "metadata": {},
   "outputs": [],
   "source": [
    "import matplotlib.pyplot as plt\n",
    "\n",
    "plt.plot(k_range, scores)\n",
    "plt.xlabel('k value')\n",
    "plt.ylabel('Accuracy')\n",
    "\n",
    "plt.show()"
   ]
  },
  {
   "cell_type": "markdown",
   "id": "d6525174",
   "metadata": {},
   "source": [
    "# Otimizando com o Grid Search:"
   ]
  },
  {
   "cell_type": "code",
   "execution_count": null,
   "id": "218d89a4",
   "metadata": {},
   "outputs": [],
   "source": [
    "# Hiperprâmetros para o Random Forest:\n",
    "\n",
    "param_grid = { \n",
    "    'n_estimators': [10, 15,20],\n",
    "    'max_features': ['auto', 'sqrt', 'log2'],\n",
    "    'max_depth' : [4,5,6,7,8],\n",
    "    'criterion' :['gini', 'entropy']\n",
    "}"
   ]
  },
  {
   "cell_type": "code",
   "execution_count": null,
   "id": "1dcefa9e",
   "metadata": {},
   "outputs": [],
   "source": [
    "from sklearn.model_selection import GridSearchCV, PredefinedSplit\n",
    "from sklearn.model_selection import StratifiedKFold\n",
    "\n",
    "\n",
    "\n",
    "model_RF= RandomForestClassifier( random_state=42)\n",
    "\n",
    "skf = StratifiedKFold(n_splits=10,shuffle=True, random_state=1)\n",
    "\n",
    "gs = GridSearchCV(model_RF, param_grid, refit= False, cv=skf)\n",
    "\n",
    "gs.fit(X_train, y_train)"
   ]
  },
  {
   "cell_type": "code",
   "execution_count": null,
   "id": "677c10bf",
   "metadata": {},
   "outputs": [],
   "source": [
    "# Hiperparâmetros otimizados:\n",
    "gs.best_params_"
   ]
  },
  {
   "cell_type": "code",
   "execution_count": null,
   "metadata": {},
   "outputs": [],
   "source": [
    "# Trinamento do modelo com o parâmetros otimizados:\n",
    "model_RF1= RandomForestClassifier(n_estimators= 10, max_features= 'auto', criterion= 'gini', random_state=42)\n",
    "model_RF1.fit(X_train, y_train)\n",
    "\n",
    "# e ver a sua performance no dataset de teste\n",
    "print(classification_report(y_test, model_RF1.predict(X_test)))\n",
    "\n"
   ]
  },
  {
   "cell_type": "markdown",
   "id": "4deac491",
   "metadata": {},
   "source": [
    "# Otimizando com Randon Search:"
   ]
  },
  {
   "cell_type": "code",
   "execution_count": null,
   "id": "f7e5e1ca",
   "metadata": {},
   "outputs": [],
   "source": [
    "from sklearn.model_selection import RandomizedSearchCV\n",
    "\n",
    "rand = RandomizedSearchCV(model_RF, param_grid, cv=skf, scoring='accuracy', n_iter=10, random_state=5)\n",
    "rand.fit(X_train, y_train)"
   ]
  },
  {
   "cell_type": "code",
   "execution_count": 29,
   "id": "ce07492c",
   "metadata": {},
   "outputs": [
    {
     "name": "stdout",
     "output_type": "stream",
     "text": [
      "Os melhores hiparametros: {'n_estimators': 15, 'max_features': 'sqrt', 'max_depth': 8, 'criterion': 'gini'}\n"
     ]
    }
   ],
   "source": [
    "# Hiperparâmetros otimizados:\n",
    "print(\"Os melhores hiparametros:\", rand.best_params_)"
   ]
  },
  {
   "cell_type": "code",
   "execution_count": 30,
   "id": "4fe51aed",
   "metadata": {},
   "outputs": [
    {
     "name": "stdout",
     "output_type": "stream",
     "text": [
      "              precision    recall  f1-score   support\n",
      "\n",
      "          -1       0.70      0.84      0.76      3208\n",
      "           0       0.52      0.21      0.30      2918\n",
      "           1       0.76      0.90      0.82      6137\n",
      "\n",
      "    accuracy                           0.72     12263\n",
      "   macro avg       0.66      0.65      0.63     12263\n",
      "weighted avg       0.69      0.72      0.68     12263\n",
      "\n"
     ]
    }
   ],
   "source": [
    "# Trinamento do modelo com o parâmetros otimizados:\n",
    "model_RF2= RandomForestClassifier(n_estimators= 15, max_features= 'sqrt', criterion= 'gini', random_state=42)\n",
    "model_RF2.fit(X_train, y_train)\n",
    "\n",
    "# e ver a sua performance no dataset de teste\n",
    "print(classification_report(y_test, model_RF2.predict(X_test)))\n"
   ]
  }
 ],
 "metadata": {
  "interpreter": {
   "hash": "d5f6ca866bada2297d8fd83be4f6138ccbd7745b9651ccd132432817d094bcf3"
  },
  "kernelspec": {
   "display_name": "Python 3.8.8 64-bit ('base': conda)",
   "name": "python3"
  },
  "language_info": {
   "codemirror_mode": {
    "name": "ipython",
    "version": 3
   },
   "file_extension": ".py",
   "mimetype": "text/x-python",
   "name": "python",
   "nbconvert_exporter": "python",
   "pygments_lexer": "ipython3",
   "version": "3.9.7"
  }
 },
 "nbformat": 4,
 "nbformat_minor": 5
}
