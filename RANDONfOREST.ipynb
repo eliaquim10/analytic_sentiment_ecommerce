{
 "cells": [
  {
   "cell_type": "markdown",
   "id": "ede2ce1c",
   "metadata": {},
   "source": [
    "# Coleta de dados"
   ]
  },
  {
   "cell_type": "code",
   "execution_count": 1,
   "id": "2ca3bbf4",
   "metadata": {},
   "outputs": [
    {
     "name": "stderr",
     "output_type": "stream",
     "text": [
      "[nltk_data] Downloading package rslp to\n",
      "[nltk_data]     C:\\Users\\arm4\\AppData\\Roaming\\nltk_data...\n",
      "[nltk_data]   Package rslp is already up-to-date!\n",
      "[nltk_data] Downloading package stopwords to\n",
      "[nltk_data]     C:\\Users\\arm4\\AppData\\Roaming\\nltk_data...\n",
      "[nltk_data]   Package stopwords is already up-to-date!\n"
     ]
    },
    {
     "data": {
      "text/plain": [
       "True"
      ]
     },
     "execution_count": 1,
     "metadata": {},
     "output_type": "execute_result"
    }
   ],
   "source": [
    "import pandas as pd\n",
    "import numpy as np\n",
    "import nltk\n",
    "import re\n",
    "from nltk.corpus import stopwords\n",
    "from nltk.stem import RSLPStemmer\n",
    "from nltk.tokenize import word_tokenize\n",
    "from sklearn.feature_extraction.text import TfidfVectorizer, CountVectorizer\n",
    "from sklearn.naive_bayes import MultinomialNB\n",
    "# Classes do modelo\n",
    "from sklearn.neighbors import KNeighborsClassifier\n",
    "from sklearn.ensemble import RandomForestClassifier\n",
    "from sklearn.ensemble import RandomForestClassifier\n",
    "from sklearn.metrics import classification_report\n",
    "from sklearn.model_selection import train_test_split \n",
    "nltk.download('rslp')\n",
    "nltk.download('stopwords')"
   ]
  },
  {
   "cell_type": "code",
   "execution_count": 2,
   "id": "e39e4a26",
   "metadata": {},
   "outputs": [],
   "source": [
    "dataset = pd.read_csv(\"datasets/reviews.csv\")"
   ]
  },
  {
   "cell_type": "markdown",
   "id": "bc050296",
   "metadata": {},
   "source": [
    "# Pré-Processamento dos Dados"
   ]
  },
  {
   "cell_type": "markdown",
   "id": "29a28142",
   "metadata": {},
   "source": [
    "## Definindo Tipos"
   ]
  },
  {
   "cell_type": "code",
   "execution_count": 3,
   "id": "8a0d9674",
   "metadata": {},
   "outputs": [
    {
     "data": {
      "text/html": [
       "<div>\n",
       "<style scoped>\n",
       "    .dataframe tbody tr th:only-of-type {\n",
       "        vertical-align: middle;\n",
       "    }\n",
       "\n",
       "    .dataframe tbody tr th {\n",
       "        vertical-align: top;\n",
       "    }\n",
       "\n",
       "    .dataframe thead th {\n",
       "        text-align: right;\n",
       "    }\n",
       "</style>\n",
       "<table border=\"1\" class=\"dataframe\">\n",
       "  <thead>\n",
       "    <tr style=\"text-align: right;\">\n",
       "      <th></th>\n",
       "      <th>Unnamed: 0</th>\n",
       "      <th>order_id</th>\n",
       "      <th>review_id</th>\n",
       "      <th>review_score</th>\n",
       "      <th>review_comment_message</th>\n",
       "    </tr>\n",
       "  </thead>\n",
       "  <tbody>\n",
       "    <tr>\n",
       "      <th>0</th>\n",
       "      <td>3</td>\n",
       "      <td>658677c97b385a9be170737859d3511b</td>\n",
       "      <td>e64fb393e7b32834bb789ff8bb30750e</td>\n",
       "      <td>1</td>\n",
       "      <td>Recebi bem antes do prazo estipulado.</td>\n",
       "    </tr>\n",
       "    <tr>\n",
       "      <th>1</th>\n",
       "      <td>4</td>\n",
       "      <td>8e6bfb81e283fa7e4f11123a3fb894f1</td>\n",
       "      <td>f7c4243c7fe1938f181bec41a392bdeb</td>\n",
       "      <td>1</td>\n",
       "      <td>Parabéns lojas lannister adorei comprar pela I...</td>\n",
       "    </tr>\n",
       "    <tr>\n",
       "      <th>2</th>\n",
       "      <td>9</td>\n",
       "      <td>b9bf720beb4ab3728760088589c62129</td>\n",
       "      <td>8670d52e15e00043ae7de4c01cc2fe06</td>\n",
       "      <td>0</td>\n",
       "      <td>aparelho eficiente. no site a marca do aparelh...</td>\n",
       "    </tr>\n",
       "    <tr>\n",
       "      <th>3</th>\n",
       "      <td>12</td>\n",
       "      <td>9d6f15f95d01e79bd1349cc208361f09</td>\n",
       "      <td>4b49719c8a200003f700d3d986ea1a19</td>\n",
       "      <td>0</td>\n",
       "      <td>Mas um pouco ,travando...pelo valor ta Boa.\\r\\n</td>\n",
       "    </tr>\n",
       "    <tr>\n",
       "      <th>4</th>\n",
       "      <td>15</td>\n",
       "      <td>e51478e7e277a83743b6f9991dbfa3fb</td>\n",
       "      <td>3948b09f7c818e2d86c9a546758b2335</td>\n",
       "      <td>1</td>\n",
       "      <td>Vendedor confiável, produto ok e entrega antes...</td>\n",
       "    </tr>\n",
       "  </tbody>\n",
       "</table>\n",
       "</div>"
      ],
      "text/plain": [
       "   Unnamed: 0                          order_id  \\\n",
       "0           3  658677c97b385a9be170737859d3511b   \n",
       "1           4  8e6bfb81e283fa7e4f11123a3fb894f1   \n",
       "2           9  b9bf720beb4ab3728760088589c62129   \n",
       "3          12  9d6f15f95d01e79bd1349cc208361f09   \n",
       "4          15  e51478e7e277a83743b6f9991dbfa3fb   \n",
       "\n",
       "                          review_id  review_score  \\\n",
       "0  e64fb393e7b32834bb789ff8bb30750e             1   \n",
       "1  f7c4243c7fe1938f181bec41a392bdeb             1   \n",
       "2  8670d52e15e00043ae7de4c01cc2fe06             0   \n",
       "3  4b49719c8a200003f700d3d986ea1a19             0   \n",
       "4  3948b09f7c818e2d86c9a546758b2335             1   \n",
       "\n",
       "                              review_comment_message  \n",
       "0              Recebi bem antes do prazo estipulado.  \n",
       "1  Parabéns lojas lannister adorei comprar pela I...  \n",
       "2  aparelho eficiente. no site a marca do aparelh...  \n",
       "3    Mas um pouco ,travando...pelo valor ta Boa.\\r\\n  \n",
       "4  Vendedor confiável, produto ok e entrega antes...  "
      ]
     },
     "execution_count": 3,
     "metadata": {},
     "output_type": "execute_result"
    }
   ],
   "source": [
    "dataset.head(5)"
   ]
  },
  {
   "cell_type": "code",
   "execution_count": 4,
   "id": "57097874",
   "metadata": {},
   "outputs": [
    {
     "data": {
      "text/plain": [
       "<40874x7920 sparse matrix of type '<class 'numpy.float64'>'\n",
       "\twith 277461 stored elements in Compressed Sparse Row format>"
      ]
     },
     "execution_count": 4,
     "metadata": {},
     "output_type": "execute_result"
    }
   ],
   "source": [
    "\n",
    "stopword = stopwords.words(\"portuguese\")\n",
    "stem = RSLPStemmer()\n",
    "vectorizer = TfidfVectorizer()\n",
    "def clear(review):\n",
    "  review = review.lower()\n",
    "  # remove pula de linha \n",
    "  review = re.sub('\\n', ' ', review)        \n",
    "  review = re.sub('\\r', ' ', review)\n",
    "\n",
    "  # remove numero \n",
    "  review = re.sub(r'\\d+(?:\\.\\d*(?:[eE]\\d+))?', ' #numero ', review)\n",
    "\n",
    "  # remove caracters especiais \n",
    "  review = re.sub(r'R\\$', ' ', review)\n",
    "  review = re.sub(r'\\W', ' ', review)\n",
    "  review = re.sub(r'\\s+', ' ', review)\n",
    "\n",
    "  # remove links \n",
    "  urls = re.findall('(http|ftp|https)://([\\w_-]+(?:(?:\\.[\\w_-]+)+))([\\w.,@?^=%&:/~+#-]*[\\w@?^=%&/~+#-])?', review)\n",
    "  if len(urls) > 0:\n",
    "      for url in urls:\n",
    "          for link in url:\n",
    "              review = review.replace(link, '')\n",
    "      review = review.replace(':', '')\n",
    "      review = review.replace('/', '')\n",
    "  return review\n",
    "reviews = dataset[\"review_comment_message\"]\n",
    "reviews = reviews.apply(lambda review: clear(review))\n",
    "reviews = reviews.apply(lambda review: word_tokenize(review))\n",
    "reviews = reviews.apply(lambda words_review: [word for word in words_review if word not in stopword])\n",
    "reviews = reviews.apply(lambda words_review: [stem.stem(word) for word in words_review ])\n",
    "reviews = reviews.apply(lambda words_review: \" \".join(words_review))\n",
    "reviews = vectorizer.fit_transform(reviews)\n",
    "reviews\n"
   ]
  },
  {
   "cell_type": "code",
   "execution_count": 5,
   "id": "b50198f8",
   "metadata": {},
   "outputs": [],
   "source": [
    "X = reviews.copy()\n",
    "y = dataset[\"review_score\"].copy()\n",
    "y = np.array(y)"
   ]
  },
  {
   "cell_type": "code",
   "execution_count": 6,
   "id": "c99085bb",
   "metadata": {},
   "outputs": [],
   "source": [
    "X_train, X_test, y_train, y_test = train_test_split(X, y, test_size=0.3, random_state = 199)\n"
   ]
  },
  {
   "cell_type": "code",
   "execution_count": 7,
   "id": "ea944535",
   "metadata": {},
   "outputs": [
    {
     "name": "stdout",
     "output_type": "stream",
     "text": [
      "              precision    recall  f1-score   support\n",
      "\n",
      "          -1       0.70      0.86      0.78      3208\n",
      "           0       0.55      0.19      0.28      2918\n",
      "           1       0.76      0.91      0.83      6137\n",
      "\n",
      "    accuracy                           0.73     12263\n",
      "   macro avg       0.67      0.65      0.63     12263\n",
      "weighted avg       0.70      0.73      0.69     12263\n",
      "\n"
     ]
    }
   ],
   "source": [
    "# vamos criar um classificador RandonForest:\n",
    "model_RF= RandomForestClassifier()\n",
    "model_RF.fit(X_train, y_train)\n",
    "\n",
    "# e ver a sua performance no dataset de teste\n",
    "print(classification_report(y_test, model_RF.predict(X_test)))\n"
   ]
  }
 ],
 "metadata": {
  "interpreter": {
   "hash": "d5f6ca866bada2297d8fd83be4f6138ccbd7745b9651ccd132432817d094bcf3"
  },
  "kernelspec": {
   "display_name": "Python 3.8.8 64-bit ('base': conda)",
   "name": "python3"
  },
  "language_info": {
   "codemirror_mode": {
    "name": "ipython",
    "version": 3
   },
   "file_extension": ".py",
   "mimetype": "text/x-python",
   "name": "python",
   "nbconvert_exporter": "python",
   "pygments_lexer": "ipython3",
   "version": "3.9.7"
  }
 },
 "nbformat": 4,
 "nbformat_minor": 5
}
