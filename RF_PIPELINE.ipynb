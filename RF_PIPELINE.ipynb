{
 "cells": [
  {
   "cell_type": "markdown",
   "id": "ede2ce1c",
   "metadata": {},
   "source": [
    "# Coleta de dados"
   ]
  },
  {
   "cell_type": "code",
   "execution_count": 1,
   "id": "ba4a1312",
   "metadata": {},
   "outputs": [],
   "source": [
    "# IMPORTAÇÃO DAS PRINCIPAIS BIBLIOTECAS PARA FUNCIONAMENTO DOS MODELOS:"
   ]
  },
  {
   "cell_type": "code",
   "execution_count": 2,
   "id": "2ca3bbf4",
   "metadata": {},
   "outputs": [
    {
     "name": "stderr",
     "output_type": "stream",
     "text": [
      "[nltk_data] Downloading package rslp to\n",
      "[nltk_data]     C:\\Users\\arm4\\AppData\\Roaming\\nltk_data...\n",
      "[nltk_data]   Package rslp is already up-to-date!\n",
      "[nltk_data] Downloading package stopwords to\n",
      "[nltk_data]     C:\\Users\\arm4\\AppData\\Roaming\\nltk_data...\n",
      "[nltk_data]   Package stopwords is already up-to-date!\n"
     ]
    }
   ],
   "source": [
    "import pandas as pd\n",
    "import numpy as np\n",
    "# import nltk\n",
    "# import re\n",
    "# from nltk.corpus import stopwords\n",
    "# from nltk.stem import RSLPStemmer\n",
    "# from nltk.tokenize import word_tokenize\n",
    "from sklearn.feature_extraction.text import TfidfVectorizer, CountVectorizer\n",
    "from sklearn.naive_bayes import MultinomialNB\n",
    "from sklearn.ensemble import RandomForestClassifier\n",
    "from sklearn.neighbors import KNeighborsClassifier\n",
    "from sklearn.metrics import classification_report\n",
    "from sklearn.model_selection import train_test_split \n",
    "# nltk.download('rslp')\n",
    "# nltk.download('stopwords')\n",
    "from  componetes_preprocessamento import RemoveStopWords, Cleaner, Tokenizador, Stemmer, Joiner, pega_resultados,salvando_em_arquivo\n",
    "from sklearn.pipeline import Pipeline\n",
    "from sklearn.model_selection import GridSearchCV\n",
    "from sklearn.model_selection import StratifiedKFold"
   ]
  },
  {
   "cell_type": "code",
   "execution_count": 3,
   "id": "b2a202cd",
   "metadata": {},
   "outputs": [],
   "source": [
    "# !conda install nltk\n",
    "# import nltk\n",
    "# nltk.download_gui()"
   ]
  },
  {
   "cell_type": "code",
   "execution_count": 4,
   "id": "e39e4a26",
   "metadata": {},
   "outputs": [],
   "source": [
    "dataset = pd.read_csv(\"datasets/reviews.csv\")"
   ]
  },
  {
   "cell_type": "markdown",
   "id": "bc050296",
   "metadata": {},
   "source": [
    "# Pré-Processamento dos Dados"
   ]
  },
  {
   "cell_type": "markdown",
   "id": "29a28142",
   "metadata": {},
   "source": [
    "## Definindo Tipos"
   ]
  },
  {
   "cell_type": "code",
   "execution_count": 5,
   "id": "8a0d9674",
   "metadata": {},
   "outputs": [
    {
     "data": {
      "text/html": [
       "<div>\n",
       "<style scoped>\n",
       "    .dataframe tbody tr th:only-of-type {\n",
       "        vertical-align: middle;\n",
       "    }\n",
       "\n",
       "    .dataframe tbody tr th {\n",
       "        vertical-align: top;\n",
       "    }\n",
       "\n",
       "    .dataframe thead th {\n",
       "        text-align: right;\n",
       "    }\n",
       "</style>\n",
       "<table border=\"1\" class=\"dataframe\">\n",
       "  <thead>\n",
       "    <tr style=\"text-align: right;\">\n",
       "      <th></th>\n",
       "      <th>Unnamed: 0</th>\n",
       "      <th>order_id</th>\n",
       "      <th>review_id</th>\n",
       "      <th>review_score</th>\n",
       "      <th>review_comment_message</th>\n",
       "    </tr>\n",
       "  </thead>\n",
       "  <tbody>\n",
       "    <tr>\n",
       "      <th>0</th>\n",
       "      <td>3</td>\n",
       "      <td>658677c97b385a9be170737859d3511b</td>\n",
       "      <td>e64fb393e7b32834bb789ff8bb30750e</td>\n",
       "      <td>1</td>\n",
       "      <td>Recebi bem antes do prazo estipulado.</td>\n",
       "    </tr>\n",
       "    <tr>\n",
       "      <th>1</th>\n",
       "      <td>4</td>\n",
       "      <td>8e6bfb81e283fa7e4f11123a3fb894f1</td>\n",
       "      <td>f7c4243c7fe1938f181bec41a392bdeb</td>\n",
       "      <td>1</td>\n",
       "      <td>Parabéns lojas lannister adorei comprar pela I...</td>\n",
       "    </tr>\n",
       "    <tr>\n",
       "      <th>2</th>\n",
       "      <td>9</td>\n",
       "      <td>b9bf720beb4ab3728760088589c62129</td>\n",
       "      <td>8670d52e15e00043ae7de4c01cc2fe06</td>\n",
       "      <td>0</td>\n",
       "      <td>aparelho eficiente. no site a marca do aparelh...</td>\n",
       "    </tr>\n",
       "    <tr>\n",
       "      <th>3</th>\n",
       "      <td>12</td>\n",
       "      <td>9d6f15f95d01e79bd1349cc208361f09</td>\n",
       "      <td>4b49719c8a200003f700d3d986ea1a19</td>\n",
       "      <td>0</td>\n",
       "      <td>Mas um pouco ,travando...pelo valor ta Boa.\\r\\n</td>\n",
       "    </tr>\n",
       "    <tr>\n",
       "      <th>4</th>\n",
       "      <td>15</td>\n",
       "      <td>e51478e7e277a83743b6f9991dbfa3fb</td>\n",
       "      <td>3948b09f7c818e2d86c9a546758b2335</td>\n",
       "      <td>1</td>\n",
       "      <td>Vendedor confiável, produto ok e entrega antes...</td>\n",
       "    </tr>\n",
       "  </tbody>\n",
       "</table>\n",
       "</div>"
      ],
      "text/plain": [
       "   Unnamed: 0                          order_id  \\\n",
       "0           3  658677c97b385a9be170737859d3511b   \n",
       "1           4  8e6bfb81e283fa7e4f11123a3fb894f1   \n",
       "2           9  b9bf720beb4ab3728760088589c62129   \n",
       "3          12  9d6f15f95d01e79bd1349cc208361f09   \n",
       "4          15  e51478e7e277a83743b6f9991dbfa3fb   \n",
       "\n",
       "                          review_id  review_score  \\\n",
       "0  e64fb393e7b32834bb789ff8bb30750e             1   \n",
       "1  f7c4243c7fe1938f181bec41a392bdeb             1   \n",
       "2  8670d52e15e00043ae7de4c01cc2fe06             0   \n",
       "3  4b49719c8a200003f700d3d986ea1a19             0   \n",
       "4  3948b09f7c818e2d86c9a546758b2335             1   \n",
       "\n",
       "                              review_comment_message  \n",
       "0              Recebi bem antes do prazo estipulado.  \n",
       "1  Parabéns lojas lannister adorei comprar pela I...  \n",
       "2  aparelho eficiente. no site a marca do aparelh...  \n",
       "3    Mas um pouco ,travando...pelo valor ta Boa.\\r\\n  \n",
       "4  Vendedor confiável, produto ok e entrega antes...  "
      ]
     },
     "execution_count": 5,
     "metadata": {},
     "output_type": "execute_result"
    }
   ],
   "source": [
    "dataset.head(5)"
   ]
  },
  {
   "cell_type": "code",
   "execution_count": 6,
   "id": "b50198f8",
   "metadata": {},
   "outputs": [],
   "source": [
    "X = dataset[\"review_comment_message\"].copy()\n",
    "y = dataset[\"review_score\"].copy()\n",
    "y = np.array(y)"
   ]
  },
  {
   "cell_type": "code",
   "execution_count": 7,
   "id": "c99085bb",
   "metadata": {},
   "outputs": [],
   "source": [
    "X_train, X_test, y_train, y_test = train_test_split(X, y, test_size=0.3, random_state = 199)"
   ]
  },
  {
   "cell_type": "code",
   "execution_count": 8,
   "id": "3c8c0b59",
   "metadata": {},
   "outputs": [],
   "source": [
    "resultados = []"
   ]
  },
  {
   "cell_type": "markdown",
   "id": "015fb76b",
   "metadata": {},
   "source": [
    "# Accuracy"
   ]
  },
  {
   "cell_type": "code",
   "execution_count": 9,
   "id": "99ec847d",
   "metadata": {},
   "outputs": [
    {
     "data": {
      "text/plain": [
       "Pipeline(steps=[('Cleaner', Cleaner()),\n",
       "                ('Tokenizador', Tokenizador(lingua='portuguese')),\n",
       "                ('RemoveStopWords', RemoveStopWords(lingua='portuguese')),\n",
       "                ('Stemmer', Stemmer()), ('Joiner', Joiner()),\n",
       "                ('Tfidf', CountVectorizer()),\n",
       "                ('RandonForest',\n",
       "                 GridSearchCV(cv=StratifiedKFold(n_splits=10, random_state=1, shuffle=True),\n",
       "                              estimator=RandomForestClassifier(), n_jobs=-1,\n",
       "                              param_grid={'criterion': ['gini', 'entropy'],\n",
       "                                          'max_features': ['auto', 'sqrt',\n",
       "                                                           'log2'],\n",
       "                                          'n_estimators': array([ 1,  3,  5,  7,  9, 11, 13, 15, 17, 19, 21, 23, 25])},\n",
       "                              scoring='accuracy'))])"
      ]
     },
     "execution_count": 9,
     "metadata": {},
     "output_type": "execute_result"
    }
   ],
   "source": [
    "modelo = RandomForestClassifier()\n",
    "param_grid = { \n",
    "    'n_estimators':np.arange(1,26,2),\n",
    "    'max_features': ['auto', 'sqrt', 'log2'],\n",
    "    'criterion' :['gini', 'entropy']\n",
    "}\n",
    "kfold = StratifiedKFold(10,shuffle=True, random_state=1)\n",
    "pipeline = Pipeline([(\"Cleaner\", Cleaner()), \n",
    "                    (\"Tokenizador\", Tokenizador(\"portuguese\")), \n",
    "                    (\"RemoveStopWords\", RemoveStopWords(\"portuguese\")), \n",
    "                    (\"Stemmer\", Stemmer()), \n",
    "                    (\"Joiner\", Joiner()),\n",
    "                    (\"Tfidf\", CountVectorizer()),\n",
    "                    (\"RandonForest\", GridSearchCV(modelo, param_grid, scoring=\"accuracy\", cv=kfold, n_jobs=-1)),\n",
    "                    ])\n",
    "\n",
    "pipeline.fit(X_train, y_train)\n",
    "\n"
   ]
  },
  {
   "cell_type": "code",
   "execution_count": 10,
   "id": "9a485d63",
   "metadata": {},
   "outputs": [
    {
     "name": "stdout",
     "output_type": "stream",
     "text": [
      "0.7190943484158023 {'criterion': 'entropy', 'max_features': 'log2', 'n_estimators': 25}\n",
      "0.7189543661828719 {'criterion': 'entropy', 'max_features': 'auto', 'n_estimators': 25}\n",
      "0.718115657419437 {'criterion': 'entropy', 'max_features': 'sqrt', 'n_estimators': 25}\n",
      "0.7179058306227194 {'criterion': 'gini', 'max_features': 'log2', 'n_estimators': 21}\n",
      "0.7178358028680847 {'criterion': 'entropy', 'max_features': 'log2', 'n_estimators': 21}\n",
      "0.7178009966070613 {'criterion': 'gini', 'max_features': 'sqrt', 'n_estimators': 23}\n",
      "0.7177661170696987 {'criterion': 'gini', 'max_features': 'log2', 'n_estimators': 23}\n",
      "0.7173814651408579 {'criterion': 'gini', 'max_features': 'sqrt', 'n_estimators': 25}\n",
      "0.7171369175721789 {'criterion': 'entropy', 'max_features': 'auto', 'n_estimators': 19}\n",
      "0.7169971918064352 {'criterion': 'entropy', 'max_features': 'auto', 'n_estimators': 23}\n",
      "0.716822085781679 {'criterion': 'entropy', 'max_features': 'auto', 'n_estimators': 21}\n",
      "0.7163330517079372 {'criterion': 'gini', 'max_features': 'auto', 'n_estimators': 21}\n",
      "0.7163329662188749 {'criterion': 'gini', 'max_features': 'log2', 'n_estimators': 25}\n",
      "0.7161584586175539 {'criterion': 'entropy', 'max_features': 'sqrt', 'n_estimators': 23}\n",
      "0.7161583364903223 {'criterion': 'gini', 'max_features': 'sqrt', 'n_estimators': 21}\n",
      "0.7160184397464541 {'criterion': 'entropy', 'max_features': 'log2', 'n_estimators': 23}\n",
      "0.7152496854613148 {'criterion': 'entropy', 'max_features': 'sqrt', 'n_estimators': 21}\n",
      "0.7151099230574015 {'criterion': 'gini', 'max_features': 'sqrt', 'n_estimators': 19}\n",
      "0.7149699530371942 {'criterion': 'gini', 'max_features': 'auto', 'n_estimators': 25}\n",
      "0.7148998886443901 {'criterion': 'gini', 'max_features': 'auto', 'n_estimators': 17}\n",
      "0.7148301784205577 {'criterion': 'entropy', 'max_features': 'auto', 'n_estimators': 17}\n",
      "0.7147252589158375 {'criterion': 'entropy', 'max_features': 'sqrt', 'n_estimators': 19}\n",
      "0.7145156763735833 {'criterion': 'gini', 'max_features': 'auto', 'n_estimators': 23}\n",
      "0.7143758651187773 {'criterion': 'gini', 'max_features': 'auto', 'n_estimators': 19}\n",
      "0.7143058984277584 {'criterion': 'entropy', 'max_features': 'sqrt', 'n_estimators': 17}\n",
      "0.7142359195240164 {'criterion': 'entropy', 'max_features': 'log2', 'n_estimators': 19}\n",
      "0.7139213686261493 {'criterion': 'gini', 'max_features': 'log2', 'n_estimators': 17}\n",
      "0.7132925232976013 {'criterion': 'gini', 'max_features': 'auto', 'n_estimators': 15}\n",
      "0.7131175760382463 {'criterion': 'gini', 'max_features': 'sqrt', 'n_estimators': 15}\n",
      "0.712768023475785 {'criterion': 'gini', 'max_features': 'sqrt', 'n_estimators': 17}\n",
      "0.7127331195129761 {'criterion': 'gini', 'max_features': 'auto', 'n_estimators': 13}\n",
      "0.7121738012174131 {'criterion': 'gini', 'max_features': 'sqrt', 'n_estimators': 13}\n",
      "0.7119990493616288 {'criterion': 'gini', 'max_features': 'log2', 'n_estimators': 19}\n",
      "0.7119642064624357 {'criterion': 'entropy', 'max_features': 'log2', 'n_estimators': 15}\n",
      "0.7118941298569084 {'criterion': 'entropy', 'max_features': 'log2', 'n_estimators': 17}\n",
      "0.7113350313903625 {'criterion': 'entropy', 'max_features': 'sqrt', 'n_estimators': 15}\n",
      "0.7110552379026261 {'criterion': 'entropy', 'max_features': 'auto', 'n_estimators': 15}\n",
      "0.7106708912918643 {'criterion': 'gini', 'max_features': 'log2', 'n_estimators': 15}\n",
      "0.710041874985192 {'criterion': 'entropy', 'max_features': 'sqrt', 'n_estimators': 13}\n",
      "0.709797022098434 {'criterion': 'entropy', 'max_features': 'auto', 'n_estimators': 13}\n",
      "0.708713448235518 {'criterion': 'gini', 'max_features': 'log2', 'n_estimators': 13}\n",
      "0.7082940755347157 {'criterion': 'entropy', 'max_features': 'sqrt', 'n_estimators': 11}\n",
      "0.7077698566055323 {'criterion': 'entropy', 'max_features': 'log2', 'n_estimators': 13}\n",
      "0.7075249792933278 {'criterion': 'gini', 'max_features': 'auto', 'n_estimators': 11}\n",
      "0.7074554644730662 {'criterion': 'gini', 'max_features': 'sqrt', 'n_estimators': 11}\n",
      "0.7074553423458345 {'criterion': 'entropy', 'max_features': 'auto', 'n_estimators': 11}\n",
      "0.7051833361788977 {'criterion': 'entropy', 'max_features': 'log2', 'n_estimators': 11}\n",
      "0.7051133572751558 {'criterion': 'gini', 'max_features': 'sqrt', 'n_estimators': 9}\n",
      "0.7044845607975005 {'criterion': 'gini', 'max_features': 'log2', 'n_estimators': 11}\n",
      "0.703435793195608 {'criterion': 'entropy', 'max_features': 'sqrt', 'n_estimators': 9}\n",
      "0.7025621194057485 {'criterion': 'gini', 'max_features': 'auto', 'n_estimators': 9}\n",
      "0.7006396169503804 {'criterion': 'entropy', 'max_features': 'auto', 'n_estimators': 9}\n",
      "0.6998358976388165 {'criterion': 'entropy', 'max_features': 'auto', 'n_estimators': 7}\n",
      "0.6992766526195925 {'criterion': 'entropy', 'max_features': 'log2', 'n_estimators': 9}\n",
      "0.6977386433276642 {'criterion': 'gini', 'max_features': 'sqrt', 'n_estimators': 7}\n",
      "0.6971446408983093 {'criterion': 'gini', 'max_features': 'auto', 'n_estimators': 7}\n",
      "0.6970749428872002 {'criterion': 'gini', 'max_features': 'log2', 'n_estimators': 9}\n",
      "0.6967250727939365 {'criterion': 'entropy', 'max_features': 'sqrt', 'n_estimators': 7}\n",
      "0.69375447443645 {'criterion': 'entropy', 'max_features': 'log2', 'n_estimators': 7}\n",
      "0.6900843190832836 {'criterion': 'entropy', 'max_features': 'sqrt', 'n_estimators': 5}\n",
      "0.6899791797495464 {'criterion': 'gini', 'max_features': 'sqrt', 'n_estimators': 5}\n",
      "0.6897347543080993 {'criterion': 'gini', 'max_features': 'log2', 'n_estimators': 7}\n",
      "0.6878824994363828 {'criterion': 'gini', 'max_features': 'auto', 'n_estimators': 5}\n",
      "0.687183321035121 {'criterion': 'entropy', 'max_features': 'auto', 'n_estimators': 5}\n",
      "0.6810669328063299 {'criterion': 'entropy', 'max_features': 'log2', 'n_estimators': 5}\n",
      "0.67998315132712 {'criterion': 'gini', 'max_features': 'log2', 'n_estimators': 5}\n",
      "0.6739718047302807 {'criterion': 'entropy', 'max_features': 'sqrt', 'n_estimators': 3}\n",
      "0.6715249123676049 {'criterion': 'gini', 'max_features': 'auto', 'n_estimators': 3}\n",
      "0.6698468597791305 {'criterion': 'gini', 'max_features': 'sqrt', 'n_estimators': 3}\n",
      "0.6696028739957173 {'criterion': 'entropy', 'max_features': 'auto', 'n_estimators': 3}\n",
      "0.6629615829252452 {'criterion': 'entropy', 'max_features': 'log2', 'n_estimators': 3}\n",
      "0.6596414686434668 {'criterion': 'gini', 'max_features': 'log2', 'n_estimators': 3}\n",
      "0.6299675190414673 {'criterion': 'gini', 'max_features': 'auto', 'n_estimators': 1}\n",
      "0.6287790134611078 {'criterion': 'entropy', 'max_features': 'auto', 'n_estimators': 1}\n",
      "0.6282898572601342 {'criterion': 'gini', 'max_features': 'sqrt', 'n_estimators': 1}\n",
      "0.6246546180824998 {'criterion': 'entropy', 'max_features': 'sqrt', 'n_estimators': 1}\n",
      "0.613435094627843 {'criterion': 'gini', 'max_features': 'log2', 'n_estimators': 1}\n",
      "0.6114431506285523 {'criterion': 'entropy', 'max_features': 'log2', 'n_estimators': 1}\n"
     ]
    }
   ],
   "source": [
    "\n",
    "cvres = pipeline[\"RandonForest\"].cv_results_\n",
    "idx_args = np.argsort(cvres[\"mean_test_score\"])[::-1]\n",
    "for i in idx_args:\n",
    "    print(cvres[\"mean_test_score\"][i], cvres[\"params\"][i])"
   ]
  },
  {
   "cell_type": "code",
   "execution_count": 11,
   "id": "34790ff7",
   "metadata": {},
   "outputs": [
    {
     "name": "stdout",
     "output_type": "stream",
     "text": [
      "              precision    recall  f1-score   support\n",
      "\n",
      "          -1       0.72      0.84      0.77      3208\n",
      "           0       0.50      0.21      0.30      2918\n",
      "           1       0.76      0.90      0.82      6137\n",
      "\n",
      "    accuracy                           0.72     12263\n",
      "   macro avg       0.66      0.65      0.63     12263\n",
      "weighted avg       0.69      0.72      0.68     12263\n",
      "\n",
      "['RF', 'Grid Search', 0.7207045584277909, 0.631017159338, 0.6602326061553194, 0.6494945105965877, 'Acuracia', {'criterion': 'entropy', 'max_features': 'log2', 'n_estimators': 25}]\n"
     ]
    }
   ],
   "source": [
    "y_pred = pipeline.predict(X_test)\n",
    "\n",
    "print(classification_report(y_test, y_pred))\n",
    "\n",
    "resultado = pega_resultados(\"RF\", \"Grid Search\", y_test,y_pred , \"Acuracia\", pipeline[\"RandonForest\"].best_params_)\n",
    "resultados.append(resultado)\n",
    "print(resultado)"
   ]
  },
  {
   "cell_type": "markdown",
   "id": "015fb76b",
   "metadata": {},
   "source": [
    "# F1 - Score"
   ]
  },
  {
   "cell_type": "code",
   "execution_count": 12,
   "id": "99ec847d",
   "metadata": {},
   "outputs": [
    {
     "data": {
      "text/plain": [
       "Pipeline(steps=[('Cleaner', Cleaner()),\n",
       "                ('Tokenizador', Tokenizador(lingua='portuguese')),\n",
       "                ('RemoveStopWords', RemoveStopWords(lingua='portuguese')),\n",
       "                ('Stemmer', Stemmer()), ('Joiner', Joiner()),\n",
       "                ('Tfidf', CountVectorizer()),\n",
       "                ('RandonForest',\n",
       "                 GridSearchCV(cv=StratifiedKFold(n_splits=10, random_state=1, shuffle=True),\n",
       "                              estimator=RandomForestClassifier(), n_jobs=-1,\n",
       "                              param_grid={'criterion': ['gini', 'entropy'],\n",
       "                                          'max_features': ['auto', 'sqrt',\n",
       "                                                           'log2'],\n",
       "                                          'n_estimators': array([ 1,  3,  5,  7,  9, 11, 13, 15, 17, 19, 21, 23, 25])},\n",
       "                              scoring='f1_macro'))])"
      ]
     },
     "execution_count": 12,
     "metadata": {},
     "output_type": "execute_result"
    }
   ],
   "source": [
    "modelo = RandomForestClassifier()\n",
    "param_grid = { \n",
    "    'n_estimators': np.arange(1,26,2),\n",
    "    'max_features': ['auto', 'sqrt', 'log2'],\n",
    "    'criterion' :['gini', 'entropy']\n",
    "}\n",
    "kfold = StratifiedKFold(10,shuffle=True, random_state=1)\n",
    "pipeline = Pipeline([(\"Cleaner\", Cleaner()), \n",
    "                    (\"Tokenizador\", Tokenizador(\"portuguese\")), \n",
    "                    (\"RemoveStopWords\", RemoveStopWords(\"portuguese\")), \n",
    "                    (\"Stemmer\", Stemmer()), \n",
    "                    (\"Joiner\", Joiner()),\n",
    "                    (\"Tfidf\", CountVectorizer()),\n",
    "                    (\"RandonForest\", GridSearchCV(modelo, param_grid, scoring=\"f1_macro\", cv=kfold, n_jobs=-1)),\n",
    "                    ])\n",
    "\n",
    "pipeline.fit(X_train, y_train)\n",
    "\n"
   ]
  },
  {
   "cell_type": "code",
   "execution_count": 13,
   "id": "9a485d63",
   "metadata": {},
   "outputs": [
    {
     "name": "stdout",
     "output_type": "stream",
     "text": [
      "0.6330877356246216 {'criterion': 'gini', 'max_features': 'sqrt', 'n_estimators': 25}\n",
      "0.6304490707713851 {'criterion': 'gini', 'max_features': 'auto', 'n_estimators': 21}\n",
      "0.6299738571377143 {'criterion': 'gini', 'max_features': 'sqrt', 'n_estimators': 17}\n",
      "0.6298155045264895 {'criterion': 'gini', 'max_features': 'sqrt', 'n_estimators': 23}\n",
      "0.6297868760513472 {'criterion': 'gini', 'max_features': 'auto', 'n_estimators': 17}\n",
      "0.6292149666652342 {'criterion': 'gini', 'max_features': 'auto', 'n_estimators': 23}\n",
      "0.6288168971997765 {'criterion': 'entropy', 'max_features': 'sqrt', 'n_estimators': 25}\n",
      "0.6286041437287506 {'criterion': 'gini', 'max_features': 'sqrt', 'n_estimators': 19}\n",
      "0.6285590550913398 {'criterion': 'entropy', 'max_features': 'auto', 'n_estimators': 25}\n",
      "0.6280848198685163 {'criterion': 'entropy', 'max_features': 'sqrt', 'n_estimators': 15}\n",
      "0.6280548367057897 {'criterion': 'gini', 'max_features': 'auto', 'n_estimators': 25}\n",
      "0.6278835477801037 {'criterion': 'entropy', 'max_features': 'auto', 'n_estimators': 23}\n",
      "0.6278032941958231 {'criterion': 'entropy', 'max_features': 'sqrt', 'n_estimators': 21}\n",
      "0.6277723212921597 {'criterion': 'entropy', 'max_features': 'log2', 'n_estimators': 17}\n",
      "0.6274815929631294 {'criterion': 'gini', 'max_features': 'auto', 'n_estimators': 19}\n",
      "0.6272808201075633 {'criterion': 'entropy', 'max_features': 'sqrt', 'n_estimators': 23}\n",
      "0.6265173778605083 {'criterion': 'entropy', 'max_features': 'auto', 'n_estimators': 21}\n",
      "0.6259669954254898 {'criterion': 'entropy', 'max_features': 'sqrt', 'n_estimators': 19}\n",
      "0.6256918868318473 {'criterion': 'gini', 'max_features': 'auto', 'n_estimators': 15}\n",
      "0.6255709452541377 {'criterion': 'entropy', 'max_features': 'log2', 'n_estimators': 23}\n",
      "0.6253678687295671 {'criterion': 'gini', 'max_features': 'sqrt', 'n_estimators': 21}\n",
      "0.6253649438303992 {'criterion': 'gini', 'max_features': 'sqrt', 'n_estimators': 13}\n",
      "0.6251572449730027 {'criterion': 'entropy', 'max_features': 'auto', 'n_estimators': 17}\n",
      "0.6246325709350892 {'criterion': 'gini', 'max_features': 'auto', 'n_estimators': 13}\n",
      "0.6245127850146324 {'criterion': 'gini', 'max_features': 'log2', 'n_estimators': 25}\n",
      "0.6244573834335784 {'criterion': 'entropy', 'max_features': 'auto', 'n_estimators': 19}\n",
      "0.623865759993434 {'criterion': 'entropy', 'max_features': 'sqrt', 'n_estimators': 17}\n",
      "0.6235696601880276 {'criterion': 'gini', 'max_features': 'log2', 'n_estimators': 21}\n",
      "0.6232029873659406 {'criterion': 'gini', 'max_features': 'sqrt', 'n_estimators': 11}\n",
      "0.6230772219993632 {'criterion': 'gini', 'max_features': 'auto', 'n_estimators': 11}\n",
      "0.6229401732153779 {'criterion': 'gini', 'max_features': 'sqrt', 'n_estimators': 15}\n",
      "0.6226628492942108 {'criterion': 'entropy', 'max_features': 'log2', 'n_estimators': 21}\n",
      "0.6225284968815012 {'criterion': 'gini', 'max_features': 'log2', 'n_estimators': 19}\n",
      "0.622453779730948 {'criterion': 'entropy', 'max_features': 'auto', 'n_estimators': 13}\n",
      "0.6219786537505809 {'criterion': 'gini', 'max_features': 'log2', 'n_estimators': 17}\n",
      "0.6219506912634996 {'criterion': 'entropy', 'max_features': 'sqrt', 'n_estimators': 13}\n",
      "0.6219229995159276 {'criterion': 'gini', 'max_features': 'sqrt', 'n_estimators': 9}\n",
      "0.6217326746008089 {'criterion': 'entropy', 'max_features': 'log2', 'n_estimators': 13}\n",
      "0.6216609599363039 {'criterion': 'gini', 'max_features': 'log2', 'n_estimators': 13}\n",
      "0.6215035126528006 {'criterion': 'gini', 'max_features': 'log2', 'n_estimators': 23}\n",
      "0.6209244205203405 {'criterion': 'entropy', 'max_features': 'sqrt', 'n_estimators': 11}\n",
      "0.6206990868166238 {'criterion': 'entropy', 'max_features': 'log2', 'n_estimators': 25}\n",
      "0.6204696074426109 {'criterion': 'gini', 'max_features': 'log2', 'n_estimators': 15}\n",
      "0.6199606732859593 {'criterion': 'entropy', 'max_features': 'log2', 'n_estimators': 15}\n",
      "0.6195541249622037 {'criterion': 'entropy', 'max_features': 'auto', 'n_estimators': 9}\n",
      "0.6195162020212654 {'criterion': 'entropy', 'max_features': 'auto', 'n_estimators': 11}\n",
      "0.6194839030306855 {'criterion': 'entropy', 'max_features': 'auto', 'n_estimators': 15}\n",
      "0.6193421107750575 {'criterion': 'entropy', 'max_features': 'log2', 'n_estimators': 19}\n",
      "0.617937552217438 {'criterion': 'entropy', 'max_features': 'log2', 'n_estimators': 11}\n",
      "0.6177005434849339 {'criterion': 'gini', 'max_features': 'auto', 'n_estimators': 7}\n",
      "0.6174001841828796 {'criterion': 'entropy', 'max_features': 'sqrt', 'n_estimators': 9}\n",
      "0.6168098340134773 {'criterion': 'entropy', 'max_features': 'sqrt', 'n_estimators': 7}\n",
      "0.6161627271324538 {'criterion': 'gini', 'max_features': 'log2', 'n_estimators': 11}\n",
      "0.6151889722874768 {'criterion': 'entropy', 'max_features': 'auto', 'n_estimators': 7}\n",
      "0.6146791334269899 {'criterion': 'gini', 'max_features': 'auto', 'n_estimators': 9}\n",
      "0.614322862302825 {'criterion': 'gini', 'max_features': 'sqrt', 'n_estimators': 7}\n",
      "0.6119128949476489 {'criterion': 'entropy', 'max_features': 'log2', 'n_estimators': 9}\n",
      "0.6092241257879898 {'criterion': 'gini', 'max_features': 'log2', 'n_estimators': 9}\n",
      "0.6085764208104606 {'criterion': 'entropy', 'max_features': 'log2', 'n_estimators': 7}\n",
      "0.6083708486208812 {'criterion': 'gini', 'max_features': 'sqrt', 'n_estimators': 5}\n",
      "0.6077673162022569 {'criterion': 'gini', 'max_features': 'auto', 'n_estimators': 5}\n",
      "0.6077546194442714 {'criterion': 'entropy', 'max_features': 'auto', 'n_estimators': 5}\n",
      "0.6069855841671636 {'criterion': 'entropy', 'max_features': 'sqrt', 'n_estimators': 5}\n",
      "0.6046225025134724 {'criterion': 'gini', 'max_features': 'log2', 'n_estimators': 7}\n",
      "0.6027032633285159 {'criterion': 'entropy', 'max_features': 'log2', 'n_estimators': 5}\n",
      "0.6004697690430107 {'criterion': 'gini', 'max_features': 'log2', 'n_estimators': 5}\n",
      "0.5961728604748331 {'criterion': 'gini', 'max_features': 'sqrt', 'n_estimators': 3}\n",
      "0.5940065794057509 {'criterion': 'entropy', 'max_features': 'auto', 'n_estimators': 3}\n",
      "0.5922769397513175 {'criterion': 'gini', 'max_features': 'auto', 'n_estimators': 3}\n",
      "0.5904975052144115 {'criterion': 'entropy', 'max_features': 'sqrt', 'n_estimators': 3}\n",
      "0.5777924451735714 {'criterion': 'entropy', 'max_features': 'log2', 'n_estimators': 3}\n",
      "0.576380183370466 {'criterion': 'gini', 'max_features': 'log2', 'n_estimators': 3}\n",
      "0.5635458014419455 {'criterion': 'gini', 'max_features': 'sqrt', 'n_estimators': 1}\n",
      "0.5621671385669906 {'criterion': 'entropy', 'max_features': 'auto', 'n_estimators': 1}\n",
      "0.5619955052569523 {'criterion': 'entropy', 'max_features': 'sqrt', 'n_estimators': 1}\n",
      "0.5576859913677839 {'criterion': 'gini', 'max_features': 'auto', 'n_estimators': 1}\n",
      "0.5537438085184668 {'criterion': 'entropy', 'max_features': 'log2', 'n_estimators': 1}\n",
      "0.5503777863144008 {'criterion': 'gini', 'max_features': 'log2', 'n_estimators': 1}\n"
     ]
    }
   ],
   "source": [
    "\n",
    "cvres = pipeline[\"RandonForest\"].cv_results_\n",
    "idx_args = np.argsort(cvres[\"mean_test_score\"])[::-1]\n",
    "for i in idx_args:\n",
    "    print(cvres[\"mean_test_score\"][i], cvres[\"params\"][i])"
   ]
  },
  {
   "cell_type": "code",
   "execution_count": 14,
   "id": "34790ff7",
   "metadata": {},
   "outputs": [
    {
     "name": "stdout",
     "output_type": "stream",
     "text": [
      "              precision    recall  f1-score   support\n",
      "\n",
      "          -1       0.71      0.84      0.77      3208\n",
      "           0       0.49      0.22      0.31      2918\n",
      "           1       0.76      0.89      0.82      6137\n",
      "\n",
      "    accuracy                           0.72     12263\n",
      "   macro avg       0.65      0.65      0.63     12263\n",
      "weighted avg       0.68      0.72      0.69     12263\n",
      "\n",
      "['RF', 'Grid Search', 0.7176058060833401, 0.6324358511533551, 0.6546565036522061, 0.6502136584027268, 'F1score', {'criterion': 'gini', 'max_features': 'sqrt', 'n_estimators': 25}]\n"
     ]
    }
   ],
   "source": [
    "y_pred = pipeline.predict(X_test)\n",
    "\n",
    "print(classification_report(y_test, y_pred))\n",
    "\n",
    "resultado = pega_resultados(\"RF\", \"Grid Search\", y_test,y_pred , \"F1score\", pipeline[\"RandonForest\"].best_params_)\n",
    "resultados.append(resultado)\n",
    "print(resultado)"
   ]
  },
  {
   "cell_type": "markdown",
   "id": "1bff9f88",
   "metadata": {},
   "source": [
    "# Otimizando com o Randomized search:"
   ]
  },
  {
   "cell_type": "markdown",
   "id": "593492f4",
   "metadata": {},
   "source": [
    "## Acurácia"
   ]
  },
  {
   "cell_type": "code",
   "execution_count": 15,
   "id": "b7bdcc76",
   "metadata": {},
   "outputs": [
    {
     "data": {
      "text/plain": [
       "Pipeline(steps=[('Cleaner', Cleaner()),\n",
       "                ('Tokenizador', Tokenizador(lingua='portuguese')),\n",
       "                ('RemoveStopWords', RemoveStopWords(lingua='portuguese')),\n",
       "                ('Stemmer', Stemmer()), ('Joiner', Joiner()),\n",
       "                ('Tfidf', CountVectorizer()),\n",
       "                ('RandonForest',\n",
       "                 RandomizedSearchCV(cv=StratifiedKFold(n_splits=10, random_state=1, shuffle=True),\n",
       "                                    estimator=RandomForestClassifier(),\n",
       "                                    n_jobs=-1,\n",
       "                                    param_distributions={'criterion': ['gini',\n",
       "                                                                       'entropy'],\n",
       "                                                         'max_features': ['auto',\n",
       "                                                                          'sqrt',\n",
       "                                                                          'log2'],\n",
       "                                                         'n_estimators': array([ 1,  3,  5,  7,  9, 11, 13, 15, 17, 19, 21, 23, 25])},\n",
       "                                    scoring='accuracy'))])"
      ]
     },
     "execution_count": 15,
     "metadata": {},
     "output_type": "execute_result"
    }
   ],
   "source": [
    "from sklearn.model_selection import RandomizedSearchCV\n",
    "\n",
    "modelo = RandomForestClassifier()\n",
    "param_grid = { \n",
    "    'n_estimators': np.arange(1,26,2),\n",
    "    'max_features': ['auto', 'sqrt', 'log2'],\n",
    "    'criterion' :['gini', 'entropy']\n",
    "}\n",
    "kfold = StratifiedKFold(10,shuffle=True, random_state=1)\n",
    "pipeline = Pipeline([(\"Cleaner\", Cleaner()), \n",
    "                    (\"Tokenizador\", Tokenizador(\"portuguese\")), \n",
    "                    (\"RemoveStopWords\", RemoveStopWords(\"portuguese\")), \n",
    "                    (\"Stemmer\", Stemmer()), \n",
    "                    (\"Joiner\", Joiner()),\n",
    "                    (\"Tfidf\", CountVectorizer()),\n",
    "                    (\"RandonForest\", RandomizedSearchCV(modelo, param_grid, cv=kfold, scoring='accuracy', n_iter=10, n_jobs=-1 )),\n",
    "                    \n",
    "                    ])\n",
    "\n",
    "pipeline.fit(X_train, y_train)"
   ]
  },
  {
   "cell_type": "code",
   "execution_count": 16,
   "id": "b230bf4e",
   "metadata": {},
   "outputs": [
    {
     "name": "stdout",
     "output_type": "stream",
     "text": [
      "0.7172068598377515 {'n_estimators': 25, 'max_features': 'sqrt', 'criterion': 'entropy'}\n",
      "0.7165426586756375 {'n_estimators': 21, 'max_features': 'auto', 'criterion': 'entropy'}\n",
      "0.7165077791382752 {'n_estimators': 23, 'max_features': 'sqrt', 'criterion': 'entropy'}\n",
      "0.7151446194039165 {'n_estimators': 19, 'max_features': 'auto', 'criterion': 'gini'}\n",
      "0.7127330706620835 {'n_estimators': 17, 'max_features': 'log2', 'criterion': 'gini'}\n",
      "0.7084688151777769 {'n_estimators': 11, 'max_features': 'sqrt', 'criterion': 'entropy'}\n",
      "0.7024571632628586 {'n_estimators': 9, 'max_features': 'auto', 'criterion': 'entropy'}\n",
      "0.6979138470542056 {'n_estimators': 7, 'max_features': 'sqrt', 'criterion': 'gini'}\n",
      "0.6978087809968073 {'n_estimators': 7, 'max_features': 'sqrt', 'criterion': 'entropy'}\n",
      "0.628430022683912 {'n_estimators': 1, 'max_features': 'auto', 'criterion': 'entropy'}\n"
     ]
    }
   ],
   "source": [
    "cvres = pipeline[\"RandonForest\"].cv_results_\n",
    "idx_args = np.argsort(cvres[\"mean_test_score\"])[::-1]\n",
    "for i in idx_args:\n",
    "    print(cvres[\"mean_test_score\"][i], cvres[\"params\"][i])"
   ]
  },
  {
   "cell_type": "code",
   "execution_count": 17,
   "id": "64a41085",
   "metadata": {},
   "outputs": [
    {
     "name": "stdout",
     "output_type": "stream",
     "text": [
      "              precision    recall  f1-score   support\n",
      "\n",
      "          -1       0.72      0.85      0.77      3208\n",
      "           0       0.50      0.22      0.30      2918\n",
      "           1       0.76      0.89      0.82      6137\n",
      "\n",
      "    accuracy                           0.72     12263\n",
      "   macro avg       0.66      0.65      0.63     12263\n",
      "weighted avg       0.69      0.72      0.69     12263\n",
      "\n",
      "['RF', 'Randomized Search', 0.7196444589415314, 0.6325799177369695, 0.6590826808664735, 0.6515137850330578, 'Acuracia', {'n_estimators': 25, 'max_features': 'sqrt', 'criterion': 'entropy'}]\n"
     ]
    }
   ],
   "source": [
    "y_pred = pipeline.predict(X_test)\n",
    "\n",
    "print(classification_report(y_test, y_pred))\n",
    "\n",
    "resultado = pega_resultados(\"RF\", \"Randomized Search\", y_test,y_pred , \"Acuracia\", pipeline[\"RandonForest\"].best_params_)\n",
    "resultados.append(resultado)\n",
    "print(resultado)"
   ]
  },
  {
   "cell_type": "markdown",
   "id": "c0f44830",
   "metadata": {},
   "source": [
    "## F1 score"
   ]
  },
  {
   "cell_type": "code",
   "execution_count": 18,
   "id": "e3dbdaac",
   "metadata": {},
   "outputs": [
    {
     "data": {
      "text/plain": [
       "Pipeline(steps=[('Cleaner', Cleaner()),\n",
       "                ('Tokenizador', Tokenizador(lingua='portuguese')),\n",
       "                ('RemoveStopWords', RemoveStopWords(lingua='portuguese')),\n",
       "                ('Stemmer', Stemmer()), ('Joiner', Joiner()),\n",
       "                ('Tfidf', CountVectorizer()),\n",
       "                ('RandonForest',\n",
       "                 RandomizedSearchCV(cv=StratifiedKFold(n_splits=10, random_state=1, shuffle=True),\n",
       "                                    estimator=RandomForestClassifier(),\n",
       "                                    n_jobs=-1,\n",
       "                                    param_distributions={'criterion': ['gini',\n",
       "                                                                       'entropy'],\n",
       "                                                         'max_features': ['auto',\n",
       "                                                                          'sqrt',\n",
       "                                                                          'log2'],\n",
       "                                                         'n_estimators': array([ 1,  3,  5,  7,  9, 11, 13, 15, 17, 19, 21, 23, 25])},\n",
       "                                    scoring='f1_macro'))])"
      ]
     },
     "execution_count": 18,
     "metadata": {},
     "output_type": "execute_result"
    }
   ],
   "source": [
    "modelo = RandomForestClassifier()\n",
    "param_grid = { \n",
    "    'n_estimators': np.arange(1,26,2),\n",
    "    'max_features': ['auto', 'sqrt', 'log2'],\n",
    "    'criterion' :['gini', 'entropy']\n",
    "}\n",
    "kfold = StratifiedKFold(10,shuffle=True, random_state=1)\n",
    "pipeline = Pipeline([(\"Cleaner\", Cleaner()), \n",
    "                    (\"Tokenizador\", Tokenizador(\"portuguese\")), \n",
    "                    (\"RemoveStopWords\", RemoveStopWords(\"portuguese\")), \n",
    "                    (\"Stemmer\", Stemmer()), \n",
    "                    (\"Joiner\", Joiner()),\n",
    "                    (\"Tfidf\", CountVectorizer()),\n",
    "                    (\"RandonForest\", RandomizedSearchCV(modelo, param_grid, cv=kfold, scoring=\"f1_macro\", n_iter=10, n_jobs=-1 )),\n",
    "                    \n",
    "                    ])\n",
    "\n",
    "pipeline.fit(X_train, y_train)"
   ]
  },
  {
   "cell_type": "code",
   "execution_count": 19,
   "id": "e3c54263",
   "metadata": {},
   "outputs": [
    {
     "name": "stdout",
     "output_type": "stream",
     "text": [
      "0.6322066851846074 {'n_estimators': 21, 'max_features': 'sqrt', 'criterion': 'gini'}\n",
      "0.6321407764935444 {'n_estimators': 25, 'max_features': 'sqrt', 'criterion': 'entropy'}\n",
      "0.6264293226398857 {'n_estimators': 19, 'max_features': 'sqrt', 'criterion': 'entropy'}\n",
      "0.6258935617517782 {'n_estimators': 25, 'max_features': 'log2', 'criterion': 'gini'}\n",
      "0.6204436993269304 {'n_estimators': 13, 'max_features': 'log2', 'criterion': 'entropy'}\n",
      "0.6185074339822629 {'n_estimators': 11, 'max_features': 'auto', 'criterion': 'gini'}\n",
      "0.6051256135772591 {'n_estimators': 7, 'max_features': 'log2', 'criterion': 'gini'}\n",
      "0.6010480539120143 {'n_estimators': 5, 'max_features': 'log2', 'criterion': 'gini'}\n",
      "0.5914158653156584 {'n_estimators': 3, 'max_features': 'auto', 'criterion': 'gini'}\n",
      "0.5481336024312451 {'n_estimators': 1, 'max_features': 'log2', 'criterion': 'gini'}\n"
     ]
    }
   ],
   "source": [
    "cvres = pipeline[\"RandonForest\"].cv_results_\n",
    "idx_args = np.argsort(cvres[\"mean_test_score\"])[::-1]\n",
    "for i in idx_args:\n",
    "    print(cvres[\"mean_test_score\"][i], cvres[\"params\"][i])"
   ]
  },
  {
   "cell_type": "code",
   "execution_count": 20,
   "id": "e22dae9e",
   "metadata": {},
   "outputs": [
    {
     "name": "stdout",
     "output_type": "stream",
     "text": [
      "              precision    recall  f1-score   support\n",
      "\n",
      "          -1       0.71      0.84      0.77      3208\n",
      "           0       0.50      0.23      0.32      2918\n",
      "           1       0.76      0.88      0.82      6137\n",
      "\n",
      "    accuracy                           0.72     12263\n",
      "   macro avg       0.66      0.65      0.64     12263\n",
      "weighted avg       0.69      0.72      0.69     12263\n",
      "\n",
      "['RF', 'Randomized Search', 0.7171980755117019, 0.6354828569860328, 0.6572270726696398, 0.6518305236970897, 'F1score', {'n_estimators': 21, 'max_features': 'sqrt', 'criterion': 'gini'}]\n"
     ]
    }
   ],
   "source": [
    "y_pred = pipeline.predict(X_test)\n",
    "\n",
    "print(classification_report(y_test, y_pred))\n",
    "\n",
    "resultado = pega_resultados(\"RF\", \"Randomized Search\", y_test,y_pred , \"F1score\", pipeline[\"RandonForest\"].best_params_)\n",
    "resultados.append(resultado)\n",
    "print(resultado)"
   ]
  },
  {
   "cell_type": "code",
   "execution_count": 21,
   "id": "0bfcf34d",
   "metadata": {},
   "outputs": [],
   "source": [
    "salvando_em_arquivo(\"resultados/RF_resultados.csv\", resultados)"
   ]
  }
 ],
 "metadata": {
  "interpreter": {
   "hash": "d5f6ca866bada2297d8fd83be4f6138ccbd7745b9651ccd132432817d094bcf3"
  },
  "kernelspec": {
   "display_name": "Python 3.8.8 64-bit ('base': conda)",
   "name": "python3"
  },
  "language_info": {
   "codemirror_mode": {
    "name": "ipython",
    "version": 3
   },
   "file_extension": ".py",
   "mimetype": "text/x-python",
   "name": "python",
   "nbconvert_exporter": "python",
   "pygments_lexer": "ipython3",
   "version": "3.9.7"
  }
 },
 "nbformat": 4,
 "nbformat_minor": 5
}
