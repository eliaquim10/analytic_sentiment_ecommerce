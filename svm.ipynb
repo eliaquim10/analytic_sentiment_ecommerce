{
 "cells": [
  {
   "cell_type": "markdown",
   "metadata": {},
   "source": [
    "# Coleta de dados"
   ]
  },
  {
   "cell_type": "code",
   "execution_count": 1,
   "metadata": {},
   "outputs": [
    {
     "name": "stderr",
     "output_type": "stream",
     "text": [
      "[nltk_data] Downloading package rslp to\n",
      "[nltk_data]     C:\\Users\\fmfmf\\AppData\\Roaming\\nltk_data...\n",
      "[nltk_data]   Package rslp is already up-to-date!\n",
      "[nltk_data] Downloading package stopwords to\n",
      "[nltk_data]     C:\\Users\\fmfmf\\AppData\\Roaming\\nltk_data...\n",
      "[nltk_data]   Package stopwords is already up-to-date!\n"
     ]
    }
   ],
   "source": [
    "import re\n",
    "import numpy as np\n",
    "import pandas as pd\n",
    "from sklearn.svm import SVC\n",
    "from nltk.corpus import stopwords\n",
    "from nltk.stem import RSLPStemmer\n",
    "from nltk.tokenize import word_tokenize\n",
    "from sklearn.feature_extraction.text import TfidfVectorizer\n",
    "from sklearn.metrics import classification_report\n",
    "from sklearn.feature_extraction.text import TfidfVectorizer\n",
    "from componetes_preprocessamento import pega_resultados, salvando_em_arquivo\n",
    "from sklearn.model_selection import GridSearchCV, RandomizedSearchCV, train_test_split"
   ]
  },
  {
   "cell_type": "code",
   "execution_count": 2,
   "metadata": {},
   "outputs": [],
   "source": [
    "dataset = pd.read_csv(\"datasets/reviews.csv\")"
   ]
  },
  {
   "cell_type": "code",
   "execution_count": 3,
   "metadata": {},
   "outputs": [
    {
     "data": {
      "text/plain": [
       "<40874x7920 sparse matrix of type '<class 'numpy.float64'>'\n",
       "\twith 277461 stored elements in Compressed Sparse Row format>"
      ]
     },
     "execution_count": 3,
     "metadata": {},
     "output_type": "execute_result"
    }
   ],
   "source": [
    "\n",
    "stopword = stopwords.words(\"portuguese\")\n",
    "stem = RSLPStemmer()\n",
    "vectorizer = TfidfVectorizer()\n",
    "def clear(review):\n",
    "  review = review.lower()\n",
    "  # remove pula de linha \n",
    "  review = re.sub('\\n', ' ', review)        \n",
    "  review = re.sub('\\r', ' ', review)\n",
    "\n",
    "  # remove numero \n",
    "  review = re.sub(r'\\d+(?:\\.\\d*(?:[eE]\\d+))?', ' #numero ', review)\n",
    "\n",
    "  # remove caracters especiais \n",
    "  review = re.sub(r'R\\$', ' ', review)\n",
    "  review = re.sub(r'\\W', ' ', review)\n",
    "  review = re.sub(r'\\s+', ' ', review)\n",
    "\n",
    "  # remove links \n",
    "  urls = re.findall('(http|ftp|https)://([\\w_-]+(?:(?:\\.[\\w_-]+)+))([\\w.,@?^=%&:/~+#-]*[\\w@?^=%&/~+#-])?', review)\n",
    "  if len(urls) > 0:\n",
    "      for url in urls:\n",
    "          for link in url:\n",
    "              review = review.replace(link, '')\n",
    "      review = review.replace(':', '')\n",
    "      review = review.replace('/', '')\n",
    "  return review\n",
    "reviews = dataset[\"review_comment_message\"]\n",
    "reviews = reviews.apply(lambda review: clear(review))\n",
    "reviews = reviews.apply(lambda review: word_tokenize(review))\n",
    "reviews = reviews.apply(lambda words_review: [word for word in words_review if word not in stopword])\n",
    "reviews = reviews.apply(lambda words_review: [stem.stem(word) for word in words_review ])\n",
    "reviews = reviews.apply(lambda words_review: \" \".join(words_review))\n",
    "reviews = vectorizer.fit_transform(reviews)\n",
    "reviews"
   ]
  },
  {
   "cell_type": "code",
   "execution_count": 4,
   "metadata": {},
   "outputs": [],
   "source": [
    "X = reviews.copy()\n",
    "y = dataset[\"review_score\"].copy()\n",
    "y = np.array(y)"
   ]
  },
  {
   "cell_type": "code",
   "execution_count": 5,
   "metadata": {},
   "outputs": [],
   "source": [
    "X_train, X_test, y_train, y_test = train_test_split(X, y, test_size=0.3, random_state = 199)"
   ]
  },
  {
   "cell_type": "code",
   "execution_count": 6,
   "metadata": {},
   "outputs": [],
   "source": [
    "res = []"
   ]
  },
  {
   "cell_type": "markdown",
   "metadata": {},
   "source": [
    "# Sem otimização"
   ]
  },
  {
   "cell_type": "code",
   "execution_count": 7,
   "metadata": {},
   "outputs": [
    {
     "data": {
      "text/plain": [
       "SVC(C=1)"
      ]
     },
     "execution_count": 7,
     "metadata": {},
     "output_type": "execute_result"
    }
   ],
   "source": [
    "svm_model = SVC(C=1, kernel=\"rbf\")\n",
    "svm_model.fit(X_train, y_train)"
   ]
  },
  {
   "cell_type": "code",
   "execution_count": 8,
   "metadata": {},
   "outputs": [
    {
     "name": "stdout",
     "output_type": "stream",
     "text": [
      "              precision    recall  f1-score   support\n",
      "\n",
      "          -1       0.74      0.87      0.80      3208\n",
      "           0       0.60      0.24      0.34      2918\n",
      "           1       0.78      0.93      0.85      6137\n",
      "\n",
      "    accuracy                           0.75     12263\n",
      "   macro avg       0.71      0.68      0.66     12263\n",
      "weighted avg       0.73      0.75      0.72     12263\n",
      "\n"
     ]
    }
   ],
   "source": [
    "print(classification_report(y_test, svm_model.predict(X_test)))"
   ]
  },
  {
   "cell_type": "code",
   "execution_count": 9,
   "metadata": {},
   "outputs": [],
   "source": [
    "# parâmetros aplicados aos otimizadores\n",
    "model_params = {\n",
    "  'C': range(1, 11),\n",
    "  'kernel': ['linear', 'rbf', 'poly', 'sigmoid'],\n",
    "}"
   ]
  },
  {
   "cell_type": "markdown",
   "metadata": {},
   "source": [
    "# GridSearch"
   ]
  },
  {
   "cell_type": "code",
   "execution_count": 10,
   "metadata": {},
   "outputs": [
    {
     "name": "stdout",
     "output_type": "stream",
     "text": [
      "Fitting 5 folds for each of 40 candidates, totalling 200 fits\n"
     ]
    }
   ],
   "source": [
    "# grid search f1-score\n",
    "gs = GridSearchCV(\n",
    "  SVC(),\n",
    "  model_params,\n",
    "  verbose = 3,\n",
    "  cv = 5,\n",
    "  n_jobs = -1,\n",
    "  scoring=\"f1_macro\"\n",
    ")\n",
    "\n",
    "gs_svm = gs.fit(X_train, y_train)"
   ]
  },
  {
   "cell_type": "code",
   "execution_count": 11,
   "metadata": {},
   "outputs": [
    {
     "name": "stdout",
     "output_type": "stream",
     "text": [
      "{'C': 2, 'kernel': 'rbf'}\n"
     ]
    }
   ],
   "source": [
    "# melhores parâmetros encontrados no gs\n",
    "print(gs_svm.best_params_)"
   ]
  },
  {
   "cell_type": "code",
   "execution_count": 12,
   "metadata": {},
   "outputs": [
    {
     "name": "stdout",
     "output_type": "stream",
     "text": [
      "              precision    recall  f1-score   support\n",
      "\n",
      "          -1       0.75      0.86      0.80      3208\n",
      "           0       0.57      0.26      0.36      2918\n",
      "           1       0.78      0.92      0.84      6137\n",
      "\n",
      "    accuracy                           0.75     12263\n",
      "   macro avg       0.70      0.68      0.67     12263\n",
      "weighted avg       0.72      0.75      0.72     12263\n",
      "\n"
     ]
    }
   ],
   "source": [
    "# performance dos melhores hiperparâmetros do gs\n",
    "print(classification_report(y_test, gs_svm.predict(X_test)))"
   ]
  },
  {
   "cell_type": "code",
   "execution_count": 13,
   "metadata": {},
   "outputs": [],
   "source": [
    "r = pega_resultados(\n",
    "  \"svm\", \n",
    "  \"Grid Search\", \n",
    "  y_test, \n",
    "  gs_svm.predict(X_test), \n",
    "  \"f1 score\", \n",
    "  gs_svm.best_params_\n",
    ")\n",
    "res.append(r)"
   ]
  },
  {
   "cell_type": "code",
   "execution_count": 14,
   "metadata": {},
   "outputs": [
    {
     "name": "stdout",
     "output_type": "stream",
     "text": [
      "Fitting 5 folds for each of 40 candidates, totalling 200 fits\n"
     ]
    }
   ],
   "source": [
    "# grid search accuracy\n",
    "gs = GridSearchCV(\n",
    "  SVC(),\n",
    "  model_params,\n",
    "  verbose = 3,\n",
    "  cv = 5,\n",
    "  n_jobs = -1,\n",
    "  scoring=\"accuracy\"\n",
    ")\n",
    "\n",
    "gs_svm = gs.fit(X_train, y_train)"
   ]
  },
  {
   "cell_type": "code",
   "execution_count": 15,
   "metadata": {},
   "outputs": [
    {
     "name": "stdout",
     "output_type": "stream",
     "text": [
      "{'C': 1, 'kernel': 'rbf'}\n"
     ]
    }
   ],
   "source": [
    "# melhores parâmetros encontrados no gs\n",
    "print(gs_svm.best_params_)"
   ]
  },
  {
   "cell_type": "code",
   "execution_count": 16,
   "metadata": {},
   "outputs": [
    {
     "name": "stdout",
     "output_type": "stream",
     "text": [
      "              precision    recall  f1-score   support\n",
      "\n",
      "          -1       0.74      0.87      0.80      3208\n",
      "           0       0.60      0.24      0.34      2918\n",
      "           1       0.78      0.93      0.85      6137\n",
      "\n",
      "    accuracy                           0.75     12263\n",
      "   macro avg       0.71      0.68      0.66     12263\n",
      "weighted avg       0.73      0.75      0.72     12263\n",
      "\n"
     ]
    }
   ],
   "source": [
    "# performance dos melhores hiperparâmetros do gs\n",
    "print(classification_report(y_test, gs_svm.predict(X_test)))"
   ]
  },
  {
   "cell_type": "code",
   "execution_count": 17,
   "metadata": {},
   "outputs": [],
   "source": [
    "r = pega_resultados(\n",
    "  \"svm\", \n",
    "  \"Grid Search\", \n",
    "  y_test, \n",
    "  gs_svm.predict(X_test), \n",
    "  \"accuracy\", \n",
    "  gs_svm.best_params_\n",
    ")\n",
    "res.append(r)"
   ]
  },
  {
   "cell_type": "markdown",
   "metadata": {},
   "source": [
    "# RandomSearch"
   ]
  },
  {
   "cell_type": "code",
   "execution_count": 18,
   "metadata": {},
   "outputs": [],
   "source": [
    "# random search f1-score\n",
    "rs = RandomizedSearchCV(\n",
    "  SVC(),\n",
    "  model_params,\n",
    "  cv = 5,\n",
    "  n_jobs = -1,\n",
    "  scoring = 'f1_macro',\n",
    "  n_iter = 10,\n",
    "  random_state = 199\n",
    ")\n",
    "\n",
    "rs_svm = rs.fit(X_train, y_train)"
   ]
  },
  {
   "cell_type": "code",
   "execution_count": 19,
   "metadata": {},
   "outputs": [
    {
     "name": "stdout",
     "output_type": "stream",
     "text": [
      "{'kernel': 'rbf', 'C': 3}\n"
     ]
    }
   ],
   "source": [
    "# melhores parâmetros encontrados no rs\n",
    "print(rs_svm.best_params_)"
   ]
  },
  {
   "cell_type": "code",
   "execution_count": 20,
   "metadata": {},
   "outputs": [
    {
     "name": "stdout",
     "output_type": "stream",
     "text": [
      "              precision    recall  f1-score   support\n",
      "\n",
      "          -1       0.75      0.85      0.80      3208\n",
      "           0       0.54      0.28      0.37      2918\n",
      "           1       0.78      0.91      0.84      6137\n",
      "\n",
      "    accuracy                           0.74     12263\n",
      "   macro avg       0.69      0.68      0.67     12263\n",
      "weighted avg       0.72      0.74      0.72     12263\n",
      "\n"
     ]
    }
   ],
   "source": [
    "# performance dos melhores hiperparâmetros do gs\n",
    "print(classification_report(y_test, rs_svm.predict(X_test)))"
   ]
  },
  {
   "cell_type": "code",
   "execution_count": 21,
   "metadata": {},
   "outputs": [],
   "source": [
    "r = pega_resultados(\n",
    "  \"svm\", \n",
    "  \"Random Search\", \n",
    "  y_test, \n",
    "  rs_svm.predict(X_test), \n",
    "  \"f1 score\", \n",
    "  rs_svm.best_params_\n",
    ")\n",
    "res.append(r)"
   ]
  },
  {
   "cell_type": "code",
   "execution_count": 22,
   "metadata": {},
   "outputs": [],
   "source": [
    "# random search accuracy\n",
    "rs = RandomizedSearchCV(\n",
    "  SVC(),\n",
    "  model_params,\n",
    "  cv = 5,\n",
    "  n_jobs = -1,\n",
    "  scoring = 'accuracy',\n",
    "  n_iter = 10,\n",
    "  random_state = 199\n",
    ")\n",
    "\n",
    "rs_svm = rs.fit(X_train, y_train)"
   ]
  },
  {
   "cell_type": "code",
   "execution_count": 23,
   "metadata": {},
   "outputs": [
    {
     "name": "stdout",
     "output_type": "stream",
     "text": [
      "{'kernel': 'rbf', 'C': 1}\n"
     ]
    }
   ],
   "source": [
    "# melhores parâmetros encontrados no rs\n",
    "print(rs_svm.best_params_)"
   ]
  },
  {
   "cell_type": "code",
   "execution_count": 24,
   "metadata": {},
   "outputs": [
    {
     "name": "stdout",
     "output_type": "stream",
     "text": [
      "              precision    recall  f1-score   support\n",
      "\n",
      "          -1       0.74      0.87      0.80      3208\n",
      "           0       0.60      0.24      0.34      2918\n",
      "           1       0.78      0.93      0.85      6137\n",
      "\n",
      "    accuracy                           0.75     12263\n",
      "   macro avg       0.71      0.68      0.66     12263\n",
      "weighted avg       0.73      0.75      0.72     12263\n",
      "\n"
     ]
    }
   ],
   "source": [
    "# performance dos melhores hiperparâmetros do gs\n",
    "print(classification_report(y_test, rs_svm.predict(X_test)))"
   ]
  },
  {
   "cell_type": "code",
   "execution_count": 25,
   "metadata": {},
   "outputs": [],
   "source": [
    "r = pega_resultados(\n",
    "  \"svm\", \n",
    "  \"Random Search\", \n",
    "  y_test, \n",
    "  rs_svm.predict(X_test), \n",
    "  \"accuracy\", \n",
    "  rs_svm.best_params_\n",
    ")\n",
    "res.append(r)"
   ]
  },
  {
   "cell_type": "code",
   "execution_count": 26,
   "metadata": {},
   "outputs": [],
   "source": [
    "salvando_em_arquivo(\"resultados/SVM_resultados.csv\", res)"
   ]
  }
 ],
 "metadata": {
  "interpreter": {
   "hash": "49813fbd466083367f25556ebeafb5405d256548ac5d5428cca10e5143c6e625"
  },
  "kernelspec": {
   "display_name": "Python 3.8.12 64-bit ('residencia': conda)",
   "language": "python",
   "name": "python3"
  },
  "language_info": {
   "codemirror_mode": {
    "name": "ipython",
    "version": 3
   },
   "file_extension": ".py",
   "mimetype": "text/x-python",
   "name": "python",
   "nbconvert_exporter": "python",
   "pygments_lexer": "ipython3",
   "version": "3.8.12"
  },
  "orig_nbformat": 4
 },
 "nbformat": 4,
 "nbformat_minor": 2
}
