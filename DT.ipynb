{
 "cells": [
  {
   "cell_type": "markdown",
   "id": "df407b13",
   "metadata": {},
   "source": [
    "# Decision Tree"
   ]
  },
  {
   "cell_type": "code",
   "execution_count": 1,
   "id": "26c56794",
   "metadata": {},
   "outputs": [
    {
     "name": "stderr",
     "output_type": "stream",
     "text": [
      "[nltk_data] Downloading package rslp to\n",
      "[nltk_data]     C:\\Users\\cfpc2\\AppData\\Roaming\\nltk_data...\n",
      "[nltk_data]   Package rslp is already up-to-date!\n",
      "[nltk_data] Downloading package stopwords to\n",
      "[nltk_data]     C:\\Users\\cfpc2\\AppData\\Roaming\\nltk_data...\n",
      "[nltk_data]   Package stopwords is already up-to-date!\n"
     ]
    }
   ],
   "source": [
    "import pandas as pd\n",
    "import numpy as np\n",
    "from sklearn.feature_extraction.text import TfidfVectorizer, CountVectorizer\n",
    "from sklearn.metrics import classification_report\n",
    "from sklearn.model_selection import train_test_split \n",
    "from sklearn.tree import DecisionTreeClassifier\n",
    "from sklearn.model_selection import GridSearchCV\n",
    "from componetes_preprocessamento import RemoveStopWords, Cleaner, Tokenizador, Stemmer, Joiner, pega_resultados, salvando_em_arquivo\n",
    "from sklearn.pipeline import Pipeline\n",
    "from sklearn.model_selection import RandomizedSearchCV\n",
    "from sklearn.model_selection import StratifiedKFold"
   ]
  },
  {
   "cell_type": "markdown",
   "id": "6843ff12",
   "metadata": {},
   "source": [
    "## Coleta de Dados"
   ]
  },
  {
   "cell_type": "code",
   "execution_count": 2,
   "id": "d9f94c62",
   "metadata": {},
   "outputs": [],
   "source": [
    "dataset = pd.read_csv(\"datasets/reviews.csv\")"
   ]
  },
  {
   "cell_type": "code",
   "execution_count": 3,
   "id": "2c858a2d",
   "metadata": {},
   "outputs": [
    {
     "data": {
      "text/html": [
       "<div>\n",
       "<style scoped>\n",
       "    .dataframe tbody tr th:only-of-type {\n",
       "        vertical-align: middle;\n",
       "    }\n",
       "\n",
       "    .dataframe tbody tr th {\n",
       "        vertical-align: top;\n",
       "    }\n",
       "\n",
       "    .dataframe thead th {\n",
       "        text-align: right;\n",
       "    }\n",
       "</style>\n",
       "<table border=\"1\" class=\"dataframe\">\n",
       "  <thead>\n",
       "    <tr style=\"text-align: right;\">\n",
       "      <th></th>\n",
       "      <th>Unnamed: 0</th>\n",
       "      <th>order_id</th>\n",
       "      <th>review_id</th>\n",
       "      <th>review_score</th>\n",
       "      <th>review_comment_message</th>\n",
       "    </tr>\n",
       "  </thead>\n",
       "  <tbody>\n",
       "    <tr>\n",
       "      <th>0</th>\n",
       "      <td>3</td>\n",
       "      <td>658677c97b385a9be170737859d3511b</td>\n",
       "      <td>e64fb393e7b32834bb789ff8bb30750e</td>\n",
       "      <td>1</td>\n",
       "      <td>Recebi bem antes do prazo estipulado.</td>\n",
       "    </tr>\n",
       "    <tr>\n",
       "      <th>1</th>\n",
       "      <td>4</td>\n",
       "      <td>8e6bfb81e283fa7e4f11123a3fb894f1</td>\n",
       "      <td>f7c4243c7fe1938f181bec41a392bdeb</td>\n",
       "      <td>1</td>\n",
       "      <td>Parabéns lojas lannister adorei comprar pela I...</td>\n",
       "    </tr>\n",
       "    <tr>\n",
       "      <th>2</th>\n",
       "      <td>9</td>\n",
       "      <td>b9bf720beb4ab3728760088589c62129</td>\n",
       "      <td>8670d52e15e00043ae7de4c01cc2fe06</td>\n",
       "      <td>0</td>\n",
       "      <td>aparelho eficiente. no site a marca do aparelh...</td>\n",
       "    </tr>\n",
       "    <tr>\n",
       "      <th>3</th>\n",
       "      <td>12</td>\n",
       "      <td>9d6f15f95d01e79bd1349cc208361f09</td>\n",
       "      <td>4b49719c8a200003f700d3d986ea1a19</td>\n",
       "      <td>0</td>\n",
       "      <td>Mas um pouco ,travando...pelo valor ta Boa.\\r\\n</td>\n",
       "    </tr>\n",
       "    <tr>\n",
       "      <th>4</th>\n",
       "      <td>15</td>\n",
       "      <td>e51478e7e277a83743b6f9991dbfa3fb</td>\n",
       "      <td>3948b09f7c818e2d86c9a546758b2335</td>\n",
       "      <td>1</td>\n",
       "      <td>Vendedor confiável, produto ok e entrega antes...</td>\n",
       "    </tr>\n",
       "  </tbody>\n",
       "</table>\n",
       "</div>"
      ],
      "text/plain": [
       "   Unnamed: 0                          order_id  \\\n",
       "0           3  658677c97b385a9be170737859d3511b   \n",
       "1           4  8e6bfb81e283fa7e4f11123a3fb894f1   \n",
       "2           9  b9bf720beb4ab3728760088589c62129   \n",
       "3          12  9d6f15f95d01e79bd1349cc208361f09   \n",
       "4          15  e51478e7e277a83743b6f9991dbfa3fb   \n",
       "\n",
       "                          review_id  review_score  \\\n",
       "0  e64fb393e7b32834bb789ff8bb30750e             1   \n",
       "1  f7c4243c7fe1938f181bec41a392bdeb             1   \n",
       "2  8670d52e15e00043ae7de4c01cc2fe06             0   \n",
       "3  4b49719c8a200003f700d3d986ea1a19             0   \n",
       "4  3948b09f7c818e2d86c9a546758b2335             1   \n",
       "\n",
       "                              review_comment_message  \n",
       "0              Recebi bem antes do prazo estipulado.  \n",
       "1  Parabéns lojas lannister adorei comprar pela I...  \n",
       "2  aparelho eficiente. no site a marca do aparelh...  \n",
       "3    Mas um pouco ,travando...pelo valor ta Boa.\\r\\n  \n",
       "4  Vendedor confiável, produto ok e entrega antes...  "
      ]
     },
     "execution_count": 3,
     "metadata": {},
     "output_type": "execute_result"
    }
   ],
   "source": [
    "dataset.head(5)"
   ]
  },
  {
   "cell_type": "code",
   "execution_count": 4,
   "id": "cff2df8f",
   "metadata": {},
   "outputs": [],
   "source": [
    "X = dataset[\"review_comment_message\"].copy()\n",
    "y = dataset[\"review_score\"].copy()\n",
    "y = np.array(y)"
   ]
  },
  {
   "cell_type": "code",
   "execution_count": 5,
   "id": "c1f245a6",
   "metadata": {},
   "outputs": [],
   "source": [
    "X_train, X_test, y_train, y_test = train_test_split(X, y, test_size=0.3, random_state = 199)"
   ]
  },
  {
   "cell_type": "markdown",
   "id": "d36adefe",
   "metadata": {},
   "source": [
    "## Parâmetros Padrão"
   ]
  },
  {
   "cell_type": "code",
   "execution_count": 6,
   "id": "e9edc562",
   "metadata": {},
   "outputs": [
    {
     "data": {
      "text/plain": [
       "Pipeline(steps=[('Cleaner', Cleaner()),\n",
       "                ('Tokenizador', Tokenizador(lingua='portuguese')),\n",
       "                ('RemoveStopWords', RemoveStopWords(lingua='portuguese')),\n",
       "                ('Stemmer', Stemmer()), ('Joiner', Joiner()),\n",
       "                ('Tfidf', TfidfVectorizer()),\n",
       "                ('DT', DecisionTreeClassifier(random_state=199))])"
      ]
     },
     "execution_count": 6,
     "metadata": {},
     "output_type": "execute_result"
    }
   ],
   "source": [
    "pipeline = Pipeline([(\"Cleaner\", Cleaner()), \n",
    "                    (\"Tokenizador\", Tokenizador(\"portuguese\")), \n",
    "                    (\"RemoveStopWords\", RemoveStopWords(\"portuguese\")), \n",
    "                    (\"Stemmer\", Stemmer()), \n",
    "                    (\"Joiner\", Joiner()),\n",
    "                    (\"Tfidf\", TfidfVectorizer()),\n",
    "                    (\"DT\", DecisionTreeClassifier(random_state=199)),\n",
    "                    ])\n",
    "\n",
    "pipeline.fit(X_train, y_train)"
   ]
  },
  {
   "cell_type": "code",
   "execution_count": 7,
   "id": "7e1789a8",
   "metadata": {},
   "outputs": [
    {
     "name": "stdout",
     "output_type": "stream",
     "text": [
      "              precision    recall  f1-score   support\n",
      "\n",
      "          -1       0.69      0.71      0.70      3208\n",
      "           0       0.35      0.26      0.30      2918\n",
      "           1       0.74      0.82      0.77      6137\n",
      "\n",
      "    accuracy                           0.66     12263\n",
      "   macro avg       0.59      0.60      0.59     12263\n",
      "weighted avg       0.63      0.66      0.64     12263\n",
      "\n"
     ]
    }
   ],
   "source": [
    "print(classification_report(y_test, pipeline.predict(X_test)))"
   ]
  },
  {
   "cell_type": "code",
   "execution_count": 11,
   "id": "446fac26",
   "metadata": {},
   "outputs": [],
   "source": [
    "resultados = []"
   ]
  },
  {
   "cell_type": "markdown",
   "id": "eea6bd26",
   "metadata": {},
   "source": [
    "## Grid Search F1-Score"
   ]
  },
  {
   "cell_type": "code",
   "execution_count": 12,
   "id": "7441fa34",
   "metadata": {},
   "outputs": [],
   "source": [
    "parameters = dict()\n",
    "parameters[\"max_leaf_nodes\"] = list(range(2, 6))\n",
    "parameters[\"min_samples_split\"] = list(range(2, 10))\n",
    "parameters[\"max_depth\"] = list(range(2,10))\n",
    "parameters[\"criterion\"] = [\"gini\", \"entropy\"] \n",
    "parameters[\"min_samples_leaf\"] = list(range(2,6))\n",
    "dtgs = DecisionTreeClassifier(random_state=199)\n",
    "kfold = StratifiedKFold(n_splits=10, shuffle=True, random_state=1)"
   ]
  },
  {
   "cell_type": "code",
   "execution_count": 13,
   "metadata": {},
   "outputs": [
    {
     "name": "stdout",
     "output_type": "stream",
     "text": [
      "Fitting 10 folds for each of 2048 candidates, totalling 20480 fits\n"
     ]
    },
    {
     "data": {
      "text/plain": [
       "Pipeline(steps=[('Cleaner', Cleaner()),\n",
       "                ('Tokenizador', Tokenizador(lingua='portuguese')),\n",
       "                ('RemoveStopWords', RemoveStopWords(lingua='portuguese')),\n",
       "                ('Stemmer', Stemmer()), ('Joiner', Joiner()),\n",
       "                ('Tfidf', TfidfVectorizer()),\n",
       "                ('GS',\n",
       "                 GridSearchCV(cv=StratifiedKFold(n_splits=10, random_state=1, shuffle=True),\n",
       "                              estimator=DecisionTreeClassifier(random_state=199),\n",
       "                              n_jobs=-1,\n",
       "                              param_grid={'criterion': ['gini', 'entropy'],\n",
       "                                          'max_depth': [2, 3, 4, 5, 6, 7, 8, 9],\n",
       "                                          'max_leaf_nodes': [2, 3, 4, 5],\n",
       "                                          'min_samples_leaf': [2, 3, 4, 5],\n",
       "                                          'min_samples_split': [2, 3, 4, 5, 6,\n",
       "                                                                7, 8, 9]},\n",
       "                              scoring='f1_macro', verbose=1))])"
      ]
     },
     "execution_count": 13,
     "metadata": {},
     "output_type": "execute_result"
    }
   ],
   "source": [
    "pipeline_gsf1 = Pipeline([(\"Cleaner\", Cleaner()), \n",
    "                    (\"Tokenizador\", Tokenizador(\"portuguese\")), \n",
    "                    (\"RemoveStopWords\", RemoveStopWords(\"portuguese\")), \n",
    "                    (\"Stemmer\", Stemmer()), \n",
    "                    (\"Joiner\", Joiner()),\n",
    "                    (\"Tfidf\", TfidfVectorizer()),\n",
    "                    (\"GS\", GridSearchCV(dtgs, parameters, scoring=\"f1_macro\", cv=kfold, verbose=1, refit=True,n_jobs=-1)),\n",
    "                    ])\n",
    "\n",
    "pipeline_gsf1.fit(X_train, y_train)"
   ]
  },
  {
   "cell_type": "code",
   "execution_count": 14,
   "id": "5fe151ea",
   "metadata": {},
   "outputs": [
    {
     "name": "stdout",
     "output_type": "stream",
     "text": [
      "0.4132345570159666 {'criterion': 'gini', 'max_depth': 9, 'max_leaf_nodes': 5, 'min_samples_leaf': 5, 'min_samples_split': 9}\n",
      "0.4132345570159666 {'criterion': 'gini', 'max_depth': 7, 'max_leaf_nodes': 5, 'min_samples_leaf': 2, 'min_samples_split': 3}\n",
      "0.4132345570159666 {'criterion': 'gini', 'max_depth': 4, 'max_leaf_nodes': 5, 'min_samples_leaf': 5, 'min_samples_split': 9}\n",
      "0.4132345570159666 {'criterion': 'gini', 'max_depth': 7, 'max_leaf_nodes': 5, 'min_samples_leaf': 5, 'min_samples_split': 8}\n",
      "0.4132345570159666 {'criterion': 'gini', 'max_depth': 7, 'max_leaf_nodes': 5, 'min_samples_leaf': 5, 'min_samples_split': 7}\n"
     ]
    }
   ],
   "source": [
    "cvres = pipeline_gsf1[\"GS\"].cv_results_\n",
    "idx_args = np.argsort(cvres[\"mean_test_score\"])[::-1]\n",
    "for i in idx_args[:5]:\n",
    "    print(cvres[\"mean_test_score\"][i], cvres[\"params\"][i])"
   ]
  },
  {
   "cell_type": "code",
   "execution_count": 15,
   "id": "ff6a50f9",
   "metadata": {},
   "outputs": [
    {
     "name": "stdout",
     "output_type": "stream",
     "text": [
      "              precision    recall  f1-score   support\n",
      "\n",
      "          -1       0.63      0.45      0.53      3208\n",
      "           0       0.00      0.00      0.00      2918\n",
      "           1       0.58      0.94      0.72      6137\n",
      "\n",
      "    accuracy                           0.59     12263\n",
      "   macro avg       0.40      0.46      0.41     12263\n",
      "weighted avg       0.45      0.59      0.50     12263\n",
      "\n",
      "['dt', 'Grid Search', 0.5884367609883389, 0.4144199128967814, 0.4019519488358177, 0.4642440731585842, 'f1 score', {'criterion': 'gini', 'max_depth': 3, 'max_leaf_nodes': 5, 'min_samples_leaf': 2, 'min_samples_split': 2}]\n"
     ]
    },
    {
     "name": "stderr",
     "output_type": "stream",
     "text": [
      "C:\\Users\\cfpc2\\anaconda3\\envs\\rv\\lib\\site-packages\\sklearn\\metrics\\_classification.py:1318: UndefinedMetricWarning: Precision and F-score are ill-defined and being set to 0.0 in labels with no predicted samples. Use `zero_division` parameter to control this behavior.\n",
      "  _warn_prf(average, modifier, msg_start, len(result))\n",
      "C:\\Users\\cfpc2\\anaconda3\\envs\\rv\\lib\\site-packages\\sklearn\\metrics\\_classification.py:1318: UndefinedMetricWarning: Precision and F-score are ill-defined and being set to 0.0 in labels with no predicted samples. Use `zero_division` parameter to control this behavior.\n",
      "  _warn_prf(average, modifier, msg_start, len(result))\n",
      "C:\\Users\\cfpc2\\anaconda3\\envs\\rv\\lib\\site-packages\\sklearn\\metrics\\_classification.py:1318: UndefinedMetricWarning: Precision and F-score are ill-defined and being set to 0.0 in labels with no predicted samples. Use `zero_division` parameter to control this behavior.\n",
      "  _warn_prf(average, modifier, msg_start, len(result))\n",
      "C:\\Users\\cfpc2\\anaconda3\\envs\\rv\\lib\\site-packages\\sklearn\\metrics\\_classification.py:1318: UndefinedMetricWarning: Precision is ill-defined and being set to 0.0 in labels with no predicted samples. Use `zero_division` parameter to control this behavior.\n",
      "  _warn_prf(average, modifier, msg_start, len(result))\n"
     ]
    }
   ],
   "source": [
    "predicted_y_gsf1 = pipeline_gsf1.predict(X_test)\n",
    "print(classification_report(y_test, predicted_y_gsf1))\n",
    "resultado = pega_resultados(\"dt\", \"Grid Search\", y_test, predicted_y_gsf1, \"f1 score\", pipeline_gsf1[\"GS\"].best_params_)\n",
    "resultados.append(resultado)\n",
    "print(resultado)"
   ]
  },
  {
   "cell_type": "code",
   "execution_count": 16,
   "id": "312b8992",
   "metadata": {},
   "outputs": [
    {
     "name": "stdout",
     "output_type": "stream",
     "text": [
      "DecisionTreeClassifier(max_depth=3, max_leaf_nodes=5, min_samples_leaf=2,\n",
      "                       random_state=199)\n",
      "{'criterion': 'gini', 'max_depth': 3, 'max_leaf_nodes': 5, 'min_samples_leaf': 2, 'min_samples_split': 2}\n"
     ]
    }
   ],
   "source": [
    "print(pipeline_gsf1[\"GS\"].best_estimator_)\n",
    "print(pipeline_gsf1[\"GS\"].best_params_)"
   ]
  },
  {
   "cell_type": "markdown",
   "id": "63d2cebb",
   "metadata": {},
   "source": [
    "## Grid Search Accuracy Score"
   ]
  },
  {
   "cell_type": "code",
   "execution_count": 17,
   "id": "a73d22dc",
   "metadata": {},
   "outputs": [
    {
     "name": "stdout",
     "output_type": "stream",
     "text": [
      "Fitting 10 folds for each of 2048 candidates, totalling 20480 fits\n"
     ]
    },
    {
     "data": {
      "text/plain": [
       "Pipeline(steps=[('Cleaner', Cleaner()),\n",
       "                ('Tokenizador', Tokenizador(lingua='portuguese')),\n",
       "                ('RemoveStopWords', RemoveStopWords(lingua='portuguese')),\n",
       "                ('Stemmer', Stemmer()), ('Joiner', Joiner()),\n",
       "                ('Tfidf', TfidfVectorizer()),\n",
       "                ('GS',\n",
       "                 GridSearchCV(cv=StratifiedKFold(n_splits=10, random_state=1, shuffle=True),\n",
       "                              estimator=DecisionTreeClassifier(random_state=199),\n",
       "                              n_jobs=-1,\n",
       "                              param_grid={'criterion': ['gini', 'entropy'],\n",
       "                                          'max_depth': [2, 3, 4, 5, 6, 7, 8, 9],\n",
       "                                          'max_leaf_nodes': [2, 3, 4, 5],\n",
       "                                          'min_samples_leaf': [2, 3, 4, 5],\n",
       "                                          'min_samples_split': [2, 3, 4, 5, 6,\n",
       "                                                                7, 8, 9]},\n",
       "                              scoring='accuracy', verbose=1))])"
      ]
     },
     "execution_count": 17,
     "metadata": {},
     "output_type": "execute_result"
    }
   ],
   "source": [
    "pipeline_gsac = Pipeline([(\"Cleaner\", Cleaner()), \n",
    "                    (\"Tokenizador\", Tokenizador(\"portuguese\")), \n",
    "                    (\"RemoveStopWords\", RemoveStopWords(\"portuguese\")), \n",
    "                    (\"Stemmer\", Stemmer()), \n",
    "                    (\"Joiner\", Joiner()),\n",
    "                    (\"Tfidf\", TfidfVectorizer()),\n",
    "                    (\"GS\", GridSearchCV(dtgs, parameters, scoring=\"accuracy\", cv=kfold, verbose=1, refit=True,n_jobs=-1)),\n",
    "                    ])\n",
    "\n",
    "pipeline_gsac.fit(X_train, y_train)"
   ]
  },
  {
   "cell_type": "code",
   "execution_count": 18,
   "id": "5098ea5d",
   "metadata": {},
   "outputs": [
    {
     "name": "stdout",
     "output_type": "stream",
     "text": [
      "0.5886900779684672 {'criterion': 'gini', 'max_depth': 9, 'max_leaf_nodes': 5, 'min_samples_leaf': 5, 'min_samples_split': 9}\n",
      "0.5886900779684672 {'criterion': 'gini', 'max_depth': 7, 'max_leaf_nodes': 5, 'min_samples_leaf': 2, 'min_samples_split': 3}\n",
      "0.5886900779684672 {'criterion': 'gini', 'max_depth': 4, 'max_leaf_nodes': 5, 'min_samples_leaf': 5, 'min_samples_split': 9}\n",
      "0.5886900779684672 {'criterion': 'gini', 'max_depth': 7, 'max_leaf_nodes': 5, 'min_samples_leaf': 5, 'min_samples_split': 8}\n",
      "0.5886900779684672 {'criterion': 'gini', 'max_depth': 7, 'max_leaf_nodes': 5, 'min_samples_leaf': 5, 'min_samples_split': 7}\n"
     ]
    }
   ],
   "source": [
    "cvres = pipeline_gsac[\"GS\"].cv_results_\n",
    "idx_args = np.argsort(cvres[\"mean_test_score\"])[::-1]\n",
    "for i in idx_args[:5]:\n",
    "    print(cvres[\"mean_test_score\"][i], cvres[\"params\"][i])"
   ]
  },
  {
   "cell_type": "code",
   "execution_count": 19,
   "id": "fa7278b9",
   "metadata": {},
   "outputs": [
    {
     "name": "stdout",
     "output_type": "stream",
     "text": [
      "              precision    recall  f1-score   support\n",
      "\n",
      "          -1       0.63      0.45      0.53      3208\n",
      "           0       0.00      0.00      0.00      2918\n",
      "           1       0.58      0.94      0.72      6137\n",
      "\n",
      "    accuracy                           0.59     12263\n",
      "   macro avg       0.40      0.46      0.41     12263\n",
      "weighted avg       0.45      0.59      0.50     12263\n",
      "\n",
      "['dt', 'Grid Search', 0.5884367609883389, 0.4144199128967814, 0.4019519488358177, 0.4642440731585842, 'acuracia', {'criterion': 'gini', 'max_depth': 3, 'max_leaf_nodes': 5, 'min_samples_leaf': 2, 'min_samples_split': 2}]\n"
     ]
    },
    {
     "name": "stderr",
     "output_type": "stream",
     "text": [
      "C:\\Users\\cfpc2\\anaconda3\\envs\\rv\\lib\\site-packages\\sklearn\\metrics\\_classification.py:1318: UndefinedMetricWarning: Precision and F-score are ill-defined and being set to 0.0 in labels with no predicted samples. Use `zero_division` parameter to control this behavior.\n",
      "  _warn_prf(average, modifier, msg_start, len(result))\n",
      "C:\\Users\\cfpc2\\anaconda3\\envs\\rv\\lib\\site-packages\\sklearn\\metrics\\_classification.py:1318: UndefinedMetricWarning: Precision and F-score are ill-defined and being set to 0.0 in labels with no predicted samples. Use `zero_division` parameter to control this behavior.\n",
      "  _warn_prf(average, modifier, msg_start, len(result))\n",
      "C:\\Users\\cfpc2\\anaconda3\\envs\\rv\\lib\\site-packages\\sklearn\\metrics\\_classification.py:1318: UndefinedMetricWarning: Precision and F-score are ill-defined and being set to 0.0 in labels with no predicted samples. Use `zero_division` parameter to control this behavior.\n",
      "  _warn_prf(average, modifier, msg_start, len(result))\n",
      "C:\\Users\\cfpc2\\anaconda3\\envs\\rv\\lib\\site-packages\\sklearn\\metrics\\_classification.py:1318: UndefinedMetricWarning: Precision is ill-defined and being set to 0.0 in labels with no predicted samples. Use `zero_division` parameter to control this behavior.\n",
      "  _warn_prf(average, modifier, msg_start, len(result))\n"
     ]
    }
   ],
   "source": [
    "predicted_y_gsac = pipeline_gsac.predict(X_test)\n",
    "print(classification_report(y_test, predicted_y_gsac))\n",
    "resultado = pega_resultados(\"dt\", \"Grid Search\", y_test, predicted_y_gsac, \"acuracia\", pipeline_gsac[\"GS\"].best_params_)\n",
    "resultados.append(resultado)\n",
    "print(resultado)"
   ]
  },
  {
   "cell_type": "code",
   "execution_count": 20,
   "id": "62535f83",
   "metadata": {},
   "outputs": [
    {
     "name": "stdout",
     "output_type": "stream",
     "text": [
      "DecisionTreeClassifier(max_depth=3, max_leaf_nodes=5, min_samples_leaf=2,\n",
      "                       random_state=199)\n",
      "{'criterion': 'gini', 'max_depth': 3, 'max_leaf_nodes': 5, 'min_samples_leaf': 2, 'min_samples_split': 2}\n"
     ]
    }
   ],
   "source": [
    "print(pipeline_gsac[\"GS\"].best_estimator_)\n",
    "print(pipeline_gsac[\"GS\"].best_params_)"
   ]
  },
  {
   "cell_type": "markdown",
   "id": "2ce9576d",
   "metadata": {},
   "source": [
    "## Randomized Search F1-Score"
   ]
  },
  {
   "cell_type": "code",
   "execution_count": 21,
   "id": "3f31fd8a",
   "metadata": {},
   "outputs": [],
   "source": [
    "parameters_rs = dict()\n",
    "parameters_rs[\"max_leaf_nodes\"] = list(range(2,100))\n",
    "parameters_rs[\"min_samples_split\"] = list(range(2, 14))\n",
    "parameters_rs[\"max_depth\"] = list(range(2,14))\n",
    "parameters_rs[\"criterion\"] = [\"gini\", \"entropy\"] \n",
    "parameters_rs[\"min_samples_leaf\"] = list(range(2,14))\n",
    "dtrs = DecisionTreeClassifier(random_state=1)\n",
    "kfold = StratifiedKFold(n_splits=10, shuffle=True, random_state=199)"
   ]
  },
  {
   "cell_type": "code",
   "execution_count": 22,
   "id": "d48aa8ae",
   "metadata": {},
   "outputs": [
    {
     "name": "stdout",
     "output_type": "stream",
     "text": [
      "Fitting 10 folds for each of 10 candidates, totalling 100 fits\n"
     ]
    },
    {
     "data": {
      "text/plain": [
       "Pipeline(steps=[('Cleaner', Cleaner()),\n",
       "                ('Tokenizador', Tokenizador(lingua='portuguese')),\n",
       "                ('RemoveStopWords', RemoveStopWords(lingua='portuguese')),\n",
       "                ('Stemmer', Stemmer()), ('Joiner', Joiner()),\n",
       "                ('Tfidf', TfidfVectorizer()),\n",
       "                ('RS',\n",
       "                 RandomizedSearchCV(cv=StratifiedKFold(n_splits=10, random_state=199, shuffle=True),\n",
       "                                    estimator=DecisionTreeClassifier(random_state=1),\n",
       "                                    n_jobs=-1,\n",
       "                                    param_distributions={'criterion': ['gini',\n",
       "                                                                       'entropy'],\n",
       "                                                         'max_depth': [2, 3, 4,\n",
       "                                                                       5, 6, 7,\n",
       "                                                                       8, 9, 10,\n",
       "                                                                       11, 12,\n",
       "                                                                       13],\n",
       "                                                         'max_leaf_nodes': [2,\n",
       "                                                                            3,\n",
       "                                                                            4,\n",
       "                                                                            5,\n",
       "                                                                            6,\n",
       "                                                                            7,\n",
       "                                                                            8,\n",
       "                                                                            9,\n",
       "                                                                            10,\n",
       "                                                                            11,\n",
       "                                                                            12,\n",
       "                                                                            13,\n",
       "                                                                            14,\n",
       "                                                                            15,\n",
       "                                                                            16,\n",
       "                                                                            17,\n",
       "                                                                            18,\n",
       "                                                                            19,\n",
       "                                                                            20,\n",
       "                                                                            21,\n",
       "                                                                            22,\n",
       "                                                                            23,\n",
       "                                                                            24,\n",
       "                                                                            25,\n",
       "                                                                            26,\n",
       "                                                                            27,\n",
       "                                                                            28,\n",
       "                                                                            29,\n",
       "                                                                            30,\n",
       "                                                                            31, ...],\n",
       "                                                         'min_samples_leaf': [2,\n",
       "                                                                              3,\n",
       "                                                                              4,\n",
       "                                                                              5,\n",
       "                                                                              6,\n",
       "                                                                              7,\n",
       "                                                                              8,\n",
       "                                                                              9,\n",
       "                                                                              10,\n",
       "                                                                              11,\n",
       "                                                                              12,\n",
       "                                                                              13],\n",
       "                                                         'min_samples_split': [2,\n",
       "                                                                               3,\n",
       "                                                                               4,\n",
       "                                                                               5,\n",
       "                                                                               6,\n",
       "                                                                               7,\n",
       "                                                                               8,\n",
       "                                                                               9,\n",
       "                                                                               10,\n",
       "                                                                               11,\n",
       "                                                                               12,\n",
       "                                                                               13]},\n",
       "                                    scoring='f1_macro', verbose=1))])"
      ]
     },
     "execution_count": 22,
     "metadata": {},
     "output_type": "execute_result"
    }
   ],
   "source": [
    "pipeline_rsf1 = Pipeline([(\"Cleaner\", Cleaner()), \n",
    "                    (\"Tokenizador\", Tokenizador(\"portuguese\")), \n",
    "                    (\"RemoveStopWords\", RemoveStopWords(\"portuguese\")), \n",
    "                    (\"Stemmer\", Stemmer()), \n",
    "                    (\"Joiner\", Joiner()),\n",
    "                    (\"Tfidf\", TfidfVectorizer()),\n",
    "                    (\"RS\", RandomizedSearchCV(dtrs, parameters_rs, scoring=\"f1_macro\", cv=kfold, verbose=1, refit=True,n_jobs=-1)),\n",
    "                    ])\n",
    "\n",
    "pipeline_rsf1.fit(X_train, y_train)"
   ]
  },
  {
   "cell_type": "code",
   "execution_count": 23,
   "id": "69c5f16d",
   "metadata": {},
   "outputs": [
    {
     "name": "stdout",
     "output_type": "stream",
     "text": [
      "0.5079789973442697 {'min_samples_split': 8, 'min_samples_leaf': 10, 'max_leaf_nodes': 80, 'max_depth': 13, 'criterion': 'gini'}\n",
      "0.49206406304755196 {'min_samples_split': 9, 'min_samples_leaf': 7, 'max_leaf_nodes': 73, 'max_depth': 11, 'criterion': 'gini'}\n",
      "0.48017949066502175 {'min_samples_split': 11, 'min_samples_leaf': 7, 'max_leaf_nodes': 97, 'max_depth': 13, 'criterion': 'entropy'}\n",
      "0.4571819556181705 {'min_samples_split': 11, 'min_samples_leaf': 9, 'max_leaf_nodes': 27, 'max_depth': 12, 'criterion': 'entropy'}\n",
      "0.4505897558162119 {'min_samples_split': 13, 'min_samples_leaf': 9, 'max_leaf_nodes': 68, 'max_depth': 9, 'criterion': 'gini'}\n"
     ]
    }
   ],
   "source": [
    "cvres = pipeline_rsf1[\"RS\"].cv_results_\n",
    "idx_args = np.argsort(cvres[\"mean_test_score\"])[::-1]\n",
    "for i in idx_args[:5]:\n",
    "    print(cvres[\"mean_test_score\"][i], cvres[\"params\"][i])"
   ]
  },
  {
   "cell_type": "code",
   "execution_count": 24,
   "id": "c936f400",
   "metadata": {},
   "outputs": [
    {
     "name": "stdout",
     "output_type": "stream",
     "text": [
      "              precision    recall  f1-score   support\n",
      "\n",
      "          -1       0.58      0.78      0.67      3208\n",
      "           0       0.43      0.06      0.10      2918\n",
      "           1       0.70      0.86      0.77      6137\n",
      "\n",
      "    accuracy                           0.65     12263\n",
      "   macro avg       0.57      0.57      0.51     12263\n",
      "weighted avg       0.60      0.65      0.58     12263\n",
      "\n",
      "['dt', 'Randomized Search', 0.648454701133491, 0.5129431467634921, 0.5715241533099452, 0.5664856647747397, 'f1 score', {'min_samples_split': 8, 'min_samples_leaf': 10, 'max_leaf_nodes': 80, 'max_depth': 13, 'criterion': 'gini'}]\n"
     ]
    }
   ],
   "source": [
    "predicted_y_rsf1 = pipeline_rsf1.predict(X_test)\n",
    "print(classification_report(y_test, predicted_y_rsf1))\n",
    "resultado = pega_resultados(\"dt\", \"Randomized Search\", y_test, predicted_y_rsf1, \"f1 score\", pipeline_rsf1[\"RS\"].best_params_)\n",
    "resultados.append(resultado)\n",
    "print(resultado)"
   ]
  },
  {
   "cell_type": "code",
   "execution_count": 25,
   "id": "894370fb",
   "metadata": {},
   "outputs": [
    {
     "name": "stdout",
     "output_type": "stream",
     "text": [
      "DecisionTreeClassifier(max_depth=13, max_leaf_nodes=80, min_samples_leaf=10,\n",
      "                       min_samples_split=8, random_state=1)\n",
      "{'min_samples_split': 8, 'min_samples_leaf': 10, 'max_leaf_nodes': 80, 'max_depth': 13, 'criterion': 'gini'}\n"
     ]
    }
   ],
   "source": [
    "print(pipeline_rsf1[\"RS\"].best_estimator_)\n",
    "print(pipeline_rsf1[\"RS\"].best_params_)"
   ]
  },
  {
   "cell_type": "markdown",
   "id": "c924b766",
   "metadata": {},
   "source": [
    "## Randomized Search Accuracy"
   ]
  },
  {
   "cell_type": "code",
   "execution_count": 26,
   "id": "edf65bd4",
   "metadata": {},
   "outputs": [
    {
     "name": "stdout",
     "output_type": "stream",
     "text": [
      "Fitting 10 folds for each of 10 candidates, totalling 100 fits\n"
     ]
    },
    {
     "data": {
      "text/plain": [
       "Pipeline(steps=[('Cleaner', Cleaner()),\n",
       "                ('Tokenizador', Tokenizador(lingua='portuguese')),\n",
       "                ('RemoveStopWords', RemoveStopWords(lingua='portuguese')),\n",
       "                ('Stemmer', Stemmer()), ('Joiner', Joiner()),\n",
       "                ('Tfidf', TfidfVectorizer()),\n",
       "                ('RS',\n",
       "                 RandomizedSearchCV(cv=StratifiedKFold(n_splits=10, random_state=199, shuffle=True),\n",
       "                                    estimator=DecisionTreeClassifier(random_state=1),\n",
       "                                    n_jobs=-1,\n",
       "                                    param_distributions={'criterion': ['gini',\n",
       "                                                                       'entropy'],\n",
       "                                                         'max_depth': [2, 3, 4,\n",
       "                                                                       5, 6, 7,\n",
       "                                                                       8, 9, 10,\n",
       "                                                                       11, 12,\n",
       "                                                                       13],\n",
       "                                                         'max_leaf_nodes': [2,\n",
       "                                                                            3,\n",
       "                                                                            4,\n",
       "                                                                            5,\n",
       "                                                                            6,\n",
       "                                                                            7,\n",
       "                                                                            8,\n",
       "                                                                            9,\n",
       "                                                                            10,\n",
       "                                                                            11,\n",
       "                                                                            12,\n",
       "                                                                            13,\n",
       "                                                                            14,\n",
       "                                                                            15,\n",
       "                                                                            16,\n",
       "                                                                            17,\n",
       "                                                                            18,\n",
       "                                                                            19,\n",
       "                                                                            20,\n",
       "                                                                            21,\n",
       "                                                                            22,\n",
       "                                                                            23,\n",
       "                                                                            24,\n",
       "                                                                            25,\n",
       "                                                                            26,\n",
       "                                                                            27,\n",
       "                                                                            28,\n",
       "                                                                            29,\n",
       "                                                                            30,\n",
       "                                                                            31, ...],\n",
       "                                                         'min_samples_leaf': [2,\n",
       "                                                                              3,\n",
       "                                                                              4,\n",
       "                                                                              5,\n",
       "                                                                              6,\n",
       "                                                                              7,\n",
       "                                                                              8,\n",
       "                                                                              9,\n",
       "                                                                              10,\n",
       "                                                                              11,\n",
       "                                                                              12,\n",
       "                                                                              13],\n",
       "                                                         'min_samples_split': [2,\n",
       "                                                                               3,\n",
       "                                                                               4,\n",
       "                                                                               5,\n",
       "                                                                               6,\n",
       "                                                                               7,\n",
       "                                                                               8,\n",
       "                                                                               9,\n",
       "                                                                               10,\n",
       "                                                                               11,\n",
       "                                                                               12,\n",
       "                                                                               13]},\n",
       "                                    scoring='accuracy', verbose=1))])"
      ]
     },
     "execution_count": 26,
     "metadata": {},
     "output_type": "execute_result"
    }
   ],
   "source": [
    "pipeline_rsac = Pipeline([(\"Cleaner\", Cleaner()), \n",
    "                    (\"Tokenizador\", Tokenizador(\"portuguese\")), \n",
    "                    (\"RemoveStopWords\", RemoveStopWords(\"portuguese\")), \n",
    "                    (\"Stemmer\", Stemmer()), \n",
    "                    (\"Joiner\", Joiner()),\n",
    "                    (\"Tfidf\", TfidfVectorizer()),\n",
    "                    (\"RS\", RandomizedSearchCV(dtrs, parameters_rs, scoring=\"accuracy\", cv=kfold, verbose=1, refit=True,n_jobs=-1)),\n",
    "                    ])\n",
    "\n",
    "pipeline_rsac.fit(X_train, y_train)"
   ]
  },
  {
   "cell_type": "code",
   "execution_count": 27,
   "id": "ffd6a70c",
   "metadata": {},
   "outputs": [
    {
     "name": "stdout",
     "output_type": "stream",
     "text": [
      "0.6355944457512057 {'min_samples_split': 5, 'min_samples_leaf': 6, 'max_leaf_nodes': 47, 'max_depth': 11, 'criterion': 'gini'}\n",
      "0.6301071226799795 {'min_samples_split': 2, 'min_samples_leaf': 11, 'max_leaf_nodes': 24, 'max_depth': 11, 'criterion': 'gini'}\n",
      "0.6239557327865942 {'min_samples_split': 7, 'min_samples_leaf': 8, 'max_leaf_nodes': 36, 'max_depth': 10, 'criterion': 'gini'}\n",
      "0.6147636190793024 {'min_samples_split': 13, 'min_samples_leaf': 4, 'max_leaf_nodes': 98, 'max_depth': 7, 'criterion': 'gini'}\n",
      "0.607074464148452 {'min_samples_split': 10, 'min_samples_leaf': 4, 'max_leaf_nodes': 70, 'max_depth': 4, 'criterion': 'gini'}\n"
     ]
    }
   ],
   "source": [
    "cvres = pipeline_rsac[\"RS\"].cv_results_\n",
    "idx_args = np.argsort(cvres[\"mean_test_score\"])[::-1]\n",
    "for i in idx_args[:5]:\n",
    "    print(cvres[\"mean_test_score\"][i], cvres[\"params\"][i])"
   ]
  },
  {
   "cell_type": "code",
   "execution_count": 28,
   "id": "6ca139e0",
   "metadata": {},
   "outputs": [
    {
     "name": "stdout",
     "output_type": "stream",
     "text": [
      "              precision    recall  f1-score   support\n",
      "\n",
      "          -1       0.55      0.79      0.64      3208\n",
      "           0       0.37      0.01      0.03      2918\n",
      "           1       0.69      0.84      0.76      6137\n",
      "\n",
      "    accuracy                           0.63     12263\n",
      "   macro avg       0.53      0.55      0.48     12263\n",
      "weighted avg       0.58      0.63      0.55     12263\n",
      "\n",
      "['dt', 'Randomized Search', 0.6314115632390117, 0.4760656703997103, 0.5349764611418134, 0.5479704759249275, 'acuracia', {'min_samples_split': 5, 'min_samples_leaf': 6, 'max_leaf_nodes': 47, 'max_depth': 11, 'criterion': 'gini'}]\n"
     ]
    }
   ],
   "source": [
    "predicted_y_rsac = pipeline_rsac.predict(X_test)\n",
    "print(classification_report(y_test, predicted_y_rsac))\n",
    "resultado = pega_resultados(\"dt\", \"Randomized Search\", y_test, predicted_y_rsac, \"acuracia\", pipeline_rsac[\"RS\"].best_params_)\n",
    "resultados.append(resultado)\n",
    "print(resultado)"
   ]
  },
  {
   "cell_type": "code",
   "execution_count": 29,
   "id": "a8346bcd",
   "metadata": {},
   "outputs": [
    {
     "name": "stdout",
     "output_type": "stream",
     "text": [
      "DecisionTreeClassifier(max_depth=11, max_leaf_nodes=47, min_samples_leaf=6,\n",
      "                       min_samples_split=5, random_state=1)\n",
      "{'min_samples_split': 5, 'min_samples_leaf': 6, 'max_leaf_nodes': 47, 'max_depth': 11, 'criterion': 'gini'}\n"
     ]
    }
   ],
   "source": [
    "print(pipeline_rsac[\"RS\"].best_estimator_)\n",
    "print(pipeline_rsac[\"RS\"].best_params_)"
   ]
  },
  {
   "cell_type": "code",
   "execution_count": 30,
   "id": "a9cf0181",
   "metadata": {},
   "outputs": [],
   "source": [
    "salvando_em_arquivo(\"resultados/DT_resultados.csv\", resultados)"
   ]
  }
 ],
 "metadata": {
  "kernelspec": {
   "display_name": "Python 3 (ipykernel)",
   "language": "python",
   "name": "python3"
  },
  "language_info": {
   "codemirror_mode": {
    "name": "ipython",
    "version": 3
   },
   "file_extension": ".py",
   "mimetype": "text/x-python",
   "name": "python",
   "nbconvert_exporter": "python",
   "pygments_lexer": "ipython3",
   "version": "3.8.12"
  }
 },
 "nbformat": 4,
 "nbformat_minor": 5
}
