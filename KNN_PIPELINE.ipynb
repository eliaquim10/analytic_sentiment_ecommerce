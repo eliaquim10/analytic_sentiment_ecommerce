{
 "cells": [
  {
   "cell_type": "markdown",
   "id": "ede2ce1c",
   "metadata": {},
   "source": [
    "# Coleta de dados"
   ]
  },
  {
   "cell_type": "code",
   "execution_count": 44,
   "id": "ba4a1312",
   "metadata": {},
   "outputs": [],
   "source": [
    "# IMPORTAÇÃO DAS PRINCIPAIS BIBLIOTECAS PARA FUNCIONAMENTO DOS MODELOS:"
   ]
  },
  {
   "cell_type": "code",
   "execution_count": 45,
   "id": "2ca3bbf4",
   "metadata": {},
   "outputs": [],
   "source": [
    "import pandas as pd\n",
    "import numpy as np\n",
    "# import nltk\n",
    "# import re\n",
    "# from nltk.corpus import stopwords\n",
    "# from nltk.stem import RSLPStemmer\n",
    "# from nltk.tokenize import word_tokenize\n",
    "from sklearn.feature_extraction.text import TfidfVectorizer, CountVectorizer\n",
    "from sklearn.naive_bayes import MultinomialNB\n",
    "from sklearn.ensemble import RandomForestClassifier\n",
    "from sklearn.neighbors import KNeighborsClassifier\n",
    "from sklearn.metrics import classification_report\n",
    "from sklearn.model_selection import train_test_split \n",
    "# nltk.download('rslp')\n",
    "# nltk.download('stopwords')\n",
    "from  componetes_preprocessamento import RemoveStopWords, Cleaner, Tokenizador, Stemmer, Joiner, pega_resultados,salvando_em_arquivo\n",
    "from sklearn.pipeline import Pipeline\n",
    "from sklearn.model_selection import GridSearchCV\n",
    "from sklearn.model_selection import StratifiedKFold"
   ]
  },
  {
   "cell_type": "code",
   "execution_count": 46,
   "id": "b2a202cd",
   "metadata": {},
   "outputs": [],
   "source": [
    "# !conda install nltk\n",
    "# import nltk\n",
    "# nltk.download_gui()"
   ]
  },
  {
   "cell_type": "code",
   "execution_count": 47,
   "id": "e39e4a26",
   "metadata": {},
   "outputs": [],
   "source": [
    "dataset = pd.read_csv(\"datasets/reviews.csv\")"
   ]
  },
  {
   "cell_type": "markdown",
   "id": "bc050296",
   "metadata": {},
   "source": [
    "# Pré-Processamento dos Dados"
   ]
  },
  {
   "cell_type": "markdown",
   "id": "29a28142",
   "metadata": {},
   "source": [
    "## Definindo Tipos"
   ]
  },
  {
   "cell_type": "code",
   "execution_count": 48,
   "id": "8a0d9674",
   "metadata": {},
   "outputs": [
    {
     "data": {
      "text/html": [
       "<div>\n",
       "<style scoped>\n",
       "    .dataframe tbody tr th:only-of-type {\n",
       "        vertical-align: middle;\n",
       "    }\n",
       "\n",
       "    .dataframe tbody tr th {\n",
       "        vertical-align: top;\n",
       "    }\n",
       "\n",
       "    .dataframe thead th {\n",
       "        text-align: right;\n",
       "    }\n",
       "</style>\n",
       "<table border=\"1\" class=\"dataframe\">\n",
       "  <thead>\n",
       "    <tr style=\"text-align: right;\">\n",
       "      <th></th>\n",
       "      <th>Unnamed: 0</th>\n",
       "      <th>order_id</th>\n",
       "      <th>review_id</th>\n",
       "      <th>review_score</th>\n",
       "      <th>review_comment_message</th>\n",
       "    </tr>\n",
       "  </thead>\n",
       "  <tbody>\n",
       "    <tr>\n",
       "      <th>0</th>\n",
       "      <td>3</td>\n",
       "      <td>658677c97b385a9be170737859d3511b</td>\n",
       "      <td>e64fb393e7b32834bb789ff8bb30750e</td>\n",
       "      <td>1</td>\n",
       "      <td>Recebi bem antes do prazo estipulado.</td>\n",
       "    </tr>\n",
       "    <tr>\n",
       "      <th>1</th>\n",
       "      <td>4</td>\n",
       "      <td>8e6bfb81e283fa7e4f11123a3fb894f1</td>\n",
       "      <td>f7c4243c7fe1938f181bec41a392bdeb</td>\n",
       "      <td>1</td>\n",
       "      <td>Parabéns lojas lannister adorei comprar pela I...</td>\n",
       "    </tr>\n",
       "    <tr>\n",
       "      <th>2</th>\n",
       "      <td>9</td>\n",
       "      <td>b9bf720beb4ab3728760088589c62129</td>\n",
       "      <td>8670d52e15e00043ae7de4c01cc2fe06</td>\n",
       "      <td>0</td>\n",
       "      <td>aparelho eficiente. no site a marca do aparelh...</td>\n",
       "    </tr>\n",
       "    <tr>\n",
       "      <th>3</th>\n",
       "      <td>12</td>\n",
       "      <td>9d6f15f95d01e79bd1349cc208361f09</td>\n",
       "      <td>4b49719c8a200003f700d3d986ea1a19</td>\n",
       "      <td>0</td>\n",
       "      <td>Mas um pouco ,travando...pelo valor ta Boa.\\r\\n</td>\n",
       "    </tr>\n",
       "    <tr>\n",
       "      <th>4</th>\n",
       "      <td>15</td>\n",
       "      <td>e51478e7e277a83743b6f9991dbfa3fb</td>\n",
       "      <td>3948b09f7c818e2d86c9a546758b2335</td>\n",
       "      <td>1</td>\n",
       "      <td>Vendedor confiável, produto ok e entrega antes...</td>\n",
       "    </tr>\n",
       "  </tbody>\n",
       "</table>\n",
       "</div>"
      ],
      "text/plain": [
       "   Unnamed: 0                          order_id  \\\n",
       "0           3  658677c97b385a9be170737859d3511b   \n",
       "1           4  8e6bfb81e283fa7e4f11123a3fb894f1   \n",
       "2           9  b9bf720beb4ab3728760088589c62129   \n",
       "3          12  9d6f15f95d01e79bd1349cc208361f09   \n",
       "4          15  e51478e7e277a83743b6f9991dbfa3fb   \n",
       "\n",
       "                          review_id  review_score  \\\n",
       "0  e64fb393e7b32834bb789ff8bb30750e             1   \n",
       "1  f7c4243c7fe1938f181bec41a392bdeb             1   \n",
       "2  8670d52e15e00043ae7de4c01cc2fe06             0   \n",
       "3  4b49719c8a200003f700d3d986ea1a19             0   \n",
       "4  3948b09f7c818e2d86c9a546758b2335             1   \n",
       "\n",
       "                              review_comment_message  \n",
       "0              Recebi bem antes do prazo estipulado.  \n",
       "1  Parabéns lojas lannister adorei comprar pela I...  \n",
       "2  aparelho eficiente. no site a marca do aparelh...  \n",
       "3    Mas um pouco ,travando...pelo valor ta Boa.\\r\\n  \n",
       "4  Vendedor confiável, produto ok e entrega antes...  "
      ]
     },
     "execution_count": 48,
     "metadata": {},
     "output_type": "execute_result"
    }
   ],
   "source": [
    "dataset.head(5)"
   ]
  },
  {
   "cell_type": "code",
   "execution_count": 49,
   "id": "b50198f8",
   "metadata": {},
   "outputs": [],
   "source": [
    "X = dataset[\"review_comment_message\"].copy()\n",
    "y = dataset[\"review_score\"].copy()\n",
    "y = np.array(y)"
   ]
  },
  {
   "cell_type": "code",
   "execution_count": 50,
   "id": "c99085bb",
   "metadata": {},
   "outputs": [],
   "source": [
    "X_train, X_test, y_train, y_test = train_test_split(X, y, test_size=0.3, random_state = 199)"
   ]
  },
  {
   "cell_type": "code",
   "execution_count": 51,
   "id": "a9c4a0ee",
   "metadata": {},
   "outputs": [],
   "source": [
    "resultados = []"
   ]
  },
  {
   "cell_type": "markdown",
   "id": "015fb76b",
   "metadata": {},
   "source": [
    "# Accuracy"
   ]
  },
  {
   "cell_type": "code",
   "execution_count": 31,
   "id": "99ec847d",
   "metadata": {},
   "outputs": [
    {
     "data": {
      "text/plain": [
       "Pipeline(steps=[('Cleaner', Cleaner()),\n",
       "                ('Tokenizador', Tokenizador(lingua='portuguese')),\n",
       "                ('RemoveStopWords', RemoveStopWords(lingua='portuguese')),\n",
       "                ('Stemmer', Stemmer()), ('Joiner', Joiner()),\n",
       "                ('Tfidf', CountVectorizer()),\n",
       "                ('KNN',\n",
       "                 GridSearchCV(cv=StratifiedKFold(n_splits=10, random_state=1, shuffle=True),\n",
       "                              estimator=KNeighborsClassifier(), n_jobs=-1,\n",
       "                              param_grid={'metric': ['euclidean', 'manhattan',\n",
       "                                                     'minkowski'],\n",
       "                                          'n_neighbors': array([ 1,  3,  5,  7,  9, 11, 13, 15, 17, 19, 21, 23, 25])},\n",
       "                              scoring='accuracy'))])"
      ]
     },
     "execution_count": 31,
     "metadata": {},
     "output_type": "execute_result"
    }
   ],
   "source": [
    "modelo = KNeighborsClassifier()\n",
    "param_grid = {'n_neighbors':np.arange(1,26,2),\n",
    "              'metric': ['euclidean', 'manhattan', 'minkowski']\n",
    "              }\n",
    "kfold = StratifiedKFold(10,shuffle=True, random_state=1)\n",
    "pipeline = Pipeline([(\"Cleaner\", Cleaner()), \n",
    "                    (\"Tokenizador\", Tokenizador(\"portuguese\")), \n",
    "                    (\"RemoveStopWords\", RemoveStopWords(\"portuguese\")), \n",
    "                    (\"Stemmer\", Stemmer()), \n",
    "                    (\"Joiner\", Joiner()),\n",
    "                    (\"Tfidf\", CountVectorizer()),\n",
    "                    (\"KNN\", GridSearchCV(modelo, param_grid, scoring=\"accuracy\", cv=kfold, n_jobs=-1)),\n",
    "                    ])\n",
    "\n",
    "pipeline.fit(X_train, y_train)\n",
    "\n"
   ]
  },
  {
   "cell_type": "code",
   "execution_count": 32,
   "id": "9a485d63",
   "metadata": {},
   "outputs": [
    {
     "name": "stdout",
     "output_type": "stream",
     "text": [
      "0.6766278644026232 {'metric': 'euclidean', 'n_neighbors': 11}\n",
      "0.6766278644026232 {'metric': 'minkowski', 'n_neighbors': 11}\n",
      "0.675089855110695 {'metric': 'euclidean', 'n_neighbors': 9}\n",
      "0.675089855110695 {'metric': 'minkowski', 'n_neighbors': 9}\n",
      "0.6748455517964793 {'metric': 'euclidean', 'n_neighbors': 15}\n",
      "0.6748455517964793 {'metric': 'minkowski', 'n_neighbors': 15}\n",
      "0.6748453563929087 {'metric': 'minkowski', 'n_neighbors': 13}\n",
      "0.6748453563929087 {'metric': 'euclidean', 'n_neighbors': 13}\n",
      "0.6737619046572242 {'metric': 'minkowski', 'n_neighbors': 7}\n",
      "0.6737619046572242 {'metric': 'euclidean', 'n_neighbors': 7}\n",
      "0.6732376002389786 {'metric': 'manhattan', 'n_neighbors': 9}\n",
      "0.6724335633966124 {'metric': 'manhattan', 'n_neighbors': 11}\n",
      "0.6721193300295476 {'metric': 'euclidean', 'n_neighbors': 17}\n",
      "0.6721193300295476 {'metric': 'minkowski', 'n_neighbors': 17}\n",
      "0.6710704769385927 {'metric': 'manhattan', 'n_neighbors': 13}\n",
      "0.6706512996413612 {'metric': 'minkowski', 'n_neighbors': 19}\n",
      "0.6706512996413612 {'metric': 'euclidean', 'n_neighbors': 19}\n",
      "0.670371579429964 {'metric': 'manhattan', 'n_neighbors': 15}\n",
      "0.6700920912603066 {'metric': 'manhattan', 'n_neighbors': 17}\n",
      "0.6696724987304874 {'metric': 'minkowski', 'n_neighbors': 21}\n",
      "0.6696724987304874 {'metric': 'euclidean', 'n_neighbors': 21}\n",
      "0.6689384530045863 {'metric': 'manhattan', 'n_neighbors': 7}\n",
      "0.667540694625498 {'metric': 'manhattan', 'n_neighbors': 19}\n",
      "0.6669812664154264 {'metric': 'euclidean', 'n_neighbors': 5}\n",
      "0.6669812664154264 {'metric': 'minkowski', 'n_neighbors': 5}\n",
      "0.6669461914744934 {'metric': 'euclidean', 'n_neighbors': 23}\n",
      "0.6669461914744934 {'metric': 'minkowski', 'n_neighbors': 23}\n",
      "0.6669112875116845 {'metric': 'minkowski', 'n_neighbors': 25}\n",
      "0.6669112875116845 {'metric': 'euclidean', 'n_neighbors': 25}\n",
      "0.666841345246112 {'metric': 'manhattan', 'n_neighbors': 5}\n",
      "0.6664920125126677 {'metric': 'manhattan', 'n_neighbors': 21}\n",
      "0.6642548980958167 {'metric': 'manhattan', 'n_neighbors': 23}\n",
      "0.6627170964201823 {'metric': 'manhattan', 'n_neighbors': 25}\n",
      "0.6518123559051325 {'metric': 'minkowski', 'n_neighbors': 3}\n",
      "0.6518123559051325 {'metric': 'euclidean', 'n_neighbors': 3}\n",
      "0.6505191506490696 {'metric': 'manhattan', 'n_neighbors': 3}\n",
      "0.6203907656180578 {'metric': 'minkowski', 'n_neighbors': 1}\n",
      "0.6203907656180578 {'metric': 'euclidean', 'n_neighbors': 1}\n",
      "0.6199363057635993 {'metric': 'manhattan', 'n_neighbors': 1}\n"
     ]
    }
   ],
   "source": [
    "\n",
    "cvres = pipeline[\"KNN\"].cv_results_\n",
    "idx_args = np.argsort(cvres[\"mean_test_score\"])[::-1]\n",
    "for i in idx_args:\n",
    "    print(cvres[\"mean_test_score\"][i], cvres[\"params\"][i])"
   ]
  },
  {
   "cell_type": "code",
   "execution_count": 33,
   "id": "34790ff7",
   "metadata": {},
   "outputs": [
    {
     "name": "stdout",
     "output_type": "stream",
     "text": [
      "              precision    recall  f1-score   support\n",
      "\n",
      "          -1       0.70      0.74      0.72      3208\n",
      "           0       0.39      0.13      0.19      2918\n",
      "           1       0.69      0.90      0.78      6137\n",
      "\n",
      "    accuracy                           0.67     12263\n",
      "   macro avg       0.60      0.59      0.57     12263\n",
      "weighted avg       0.62      0.67      0.63     12263\n",
      "\n",
      "['knn', 'Grid Search', 0.672836989317459, 0.5651545931109594, 0.5965299884579923, 0.5876613405082093, 'Acuracia', {'metric': 'euclidean', 'n_neighbors': 11}]\n"
     ]
    }
   ],
   "source": [
    "y_pred = pipeline.predict(X_test)\n",
    "\n",
    "print(classification_report(y_test, y_pred))\n",
    "\n",
    "resultado = pega_resultados(\"knn\", \"Grid Search\", y_test,y_pred , \"Acuracia\", pipeline[\"KNN\"].best_params_)\n",
    "resultados.append(resultado)\n",
    "print(resultado)"
   ]
  },
  {
   "cell_type": "markdown",
   "id": "015fb76b",
   "metadata": {},
   "source": [
    "# F1 - Score"
   ]
  },
  {
   "cell_type": "code",
   "execution_count": 34,
   "id": "99ec847d",
   "metadata": {},
   "outputs": [
    {
     "data": {
      "text/plain": [
       "Pipeline(steps=[('Cleaner', Cleaner()),\n",
       "                ('Tokenizador', Tokenizador(lingua='portuguese')),\n",
       "                ('RemoveStopWords', RemoveStopWords(lingua='portuguese')),\n",
       "                ('Stemmer', Stemmer()), ('Joiner', Joiner()),\n",
       "                ('Tfidf', CountVectorizer()),\n",
       "                ('KNN',\n",
       "                 GridSearchCV(cv=StratifiedKFold(n_splits=10, random_state=1, shuffle=True),\n",
       "                              estimator=KNeighborsClassifier(), n_jobs=-1,\n",
       "                              param_grid={'metric': ['euclidean', 'manhattan',\n",
       "                                                     'minkowski'],\n",
       "                                          'n_neighbors': array([ 1,  3,  5,  7,  9, 11, 13, 15, 17, 19, 21, 23, 25])},\n",
       "                              scoring='f1_macro'))])"
      ]
     },
     "execution_count": 34,
     "metadata": {},
     "output_type": "execute_result"
    }
   ],
   "source": [
    "modelo = KNeighborsClassifier()\n",
    "param_grid = {'n_neighbors':np.arange(1,26,2),\n",
    "              'metric': ['euclidean', 'manhattan', 'minkowski']\n",
    "              }\n",
    "kfold = StratifiedKFold(10,shuffle=True, random_state=1)\n",
    "pipeline = Pipeline([(\"Cleaner\", Cleaner()), \n",
    "                    (\"Tokenizador\", Tokenizador(\"portuguese\")), \n",
    "                    (\"RemoveStopWords\", RemoveStopWords(\"portuguese\")), \n",
    "                    (\"Stemmer\", Stemmer()), \n",
    "                    (\"Joiner\", Joiner()),\n",
    "                    (\"Tfidf\", CountVectorizer()),\n",
    "                    (\"KNN\", GridSearchCV(modelo, param_grid, scoring=\"f1_macro\", cv=kfold, n_jobs=-1)),\n",
    "                    ])\n",
    "\n",
    "pipeline.fit(X_train, y_train)\n",
    "\n"
   ]
  },
  {
   "cell_type": "code",
   "execution_count": 35,
   "id": "9a485d63",
   "metadata": {},
   "outputs": [
    {
     "name": "stdout",
     "output_type": "stream",
     "text": [
      "0.5848737866105851 {'metric': 'euclidean', 'n_neighbors': 5}\n",
      "0.5848737866105851 {'metric': 'minkowski', 'n_neighbors': 5}\n",
      "0.5838467868315794 {'metric': 'euclidean', 'n_neighbors': 7}\n",
      "0.5838467868315794 {'metric': 'minkowski', 'n_neighbors': 7}\n",
      "0.5832316080798915 {'metric': 'manhattan', 'n_neighbors': 5}\n",
      "0.5796136955220674 {'metric': 'euclidean', 'n_neighbors': 9}\n",
      "0.5796136955220674 {'metric': 'minkowski', 'n_neighbors': 9}\n",
      "0.5748615941796005 {'metric': 'minkowski', 'n_neighbors': 11}\n",
      "0.5748615941796005 {'metric': 'euclidean', 'n_neighbors': 11}\n",
      "0.5736275961473595 {'metric': 'manhattan', 'n_neighbors': 7}\n",
      "0.5728351044180846 {'metric': 'minkowski', 'n_neighbors': 3}\n",
      "0.5728351044180846 {'metric': 'euclidean', 'n_neighbors': 3}\n",
      "0.5718421235508391 {'metric': 'manhattan', 'n_neighbors': 3}\n",
      "0.5698293946595634 {'metric': 'manhattan', 'n_neighbors': 9}\n",
      "0.5678653538252896 {'metric': 'euclidean', 'n_neighbors': 13}\n",
      "0.5678653538252896 {'metric': 'minkowski', 'n_neighbors': 13}\n",
      "0.5657877418560214 {'metric': 'minkowski', 'n_neighbors': 1}\n",
      "0.5657877418560214 {'metric': 'euclidean', 'n_neighbors': 1}\n",
      "0.5655026176413898 {'metric': 'manhattan', 'n_neighbors': 1}\n",
      "0.5650250927847057 {'metric': 'manhattan', 'n_neighbors': 11}\n",
      "0.5622584121078487 {'metric': 'euclidean', 'n_neighbors': 15}\n",
      "0.5622584121078487 {'metric': 'minkowski', 'n_neighbors': 15}\n",
      "0.5590183517162312 {'metric': 'manhattan', 'n_neighbors': 13}\n",
      "0.5551167552646538 {'metric': 'euclidean', 'n_neighbors': 17}\n",
      "0.5551167552646538 {'metric': 'minkowski', 'n_neighbors': 17}\n",
      "0.5543448409722618 {'metric': 'manhattan', 'n_neighbors': 15}\n",
      "0.5513150645039735 {'metric': 'manhattan', 'n_neighbors': 17}\n",
      "0.5505278139287998 {'metric': 'euclidean', 'n_neighbors': 19}\n",
      "0.5505278139287998 {'metric': 'minkowski', 'n_neighbors': 19}\n",
      "0.5476156632902516 {'metric': 'manhattan', 'n_neighbors': 19}\n",
      "0.5468436263999107 {'metric': 'euclidean', 'n_neighbors': 21}\n",
      "0.5468436263999107 {'metric': 'minkowski', 'n_neighbors': 21}\n",
      "0.5435467162013601 {'metric': 'manhattan', 'n_neighbors': 21}\n",
      "0.542406946939024 {'metric': 'minkowski', 'n_neighbors': 23}\n",
      "0.542406946939024 {'metric': 'euclidean', 'n_neighbors': 23}\n",
      "0.5401029049340068 {'metric': 'euclidean', 'n_neighbors': 25}\n",
      "0.5401029049340068 {'metric': 'minkowski', 'n_neighbors': 25}\n",
      "0.5388438345932165 {'metric': 'manhattan', 'n_neighbors': 23}\n",
      "0.5346281672586365 {'metric': 'manhattan', 'n_neighbors': 25}\n"
     ]
    }
   ],
   "source": [
    "\n",
    "cvres = pipeline[\"KNN\"].cv_results_\n",
    "idx_args = np.argsort(cvres[\"mean_test_score\"])[::-1]\n",
    "for i in idx_args:\n",
    "    print(cvres[\"mean_test_score\"][i], cvres[\"params\"][i])"
   ]
  },
  {
   "cell_type": "code",
   "execution_count": 36,
   "id": "34790ff7",
   "metadata": {},
   "outputs": [
    {
     "name": "stdout",
     "output_type": "stream",
     "text": [
      "              precision    recall  f1-score   support\n",
      "\n",
      "          -1       0.70      0.75      0.72      3208\n",
      "           0       0.37      0.19      0.25      2918\n",
      "           1       0.71      0.85      0.78      6137\n",
      "\n",
      "    accuracy                           0.67     12263\n",
      "   macro avg       0.59      0.60      0.58     12263\n",
      "weighted avg       0.63      0.67      0.64     12263\n",
      "\n",
      "['knn', 'Grid Search', 0.6671287613145234, 0.5829834250918987, 0.5943353621463708, 0.5968348436829974, 'F1score', {'metric': 'euclidean', 'n_neighbors': 5}]\n"
     ]
    }
   ],
   "source": [
    "y_pred = pipeline.predict(X_test)\n",
    "\n",
    "print(classification_report(y_test, y_pred))\n",
    "\n",
    "resultado = pega_resultados(\"knn\", \"Grid Search\", y_test,y_pred , \"F1score\", pipeline[\"KNN\"].best_params_)\n",
    "resultados.append(resultado)\n",
    "print(resultado)"
   ]
  },
  {
   "cell_type": "markdown",
   "id": "1bff9f88",
   "metadata": {},
   "source": [
    "# Otimizando com o Randomized search:"
   ]
  },
  {
   "cell_type": "markdown",
   "id": "593492f4",
   "metadata": {},
   "source": [
    "## Acurácia"
   ]
  },
  {
   "cell_type": "code",
   "execution_count": 37,
   "id": "b7bdcc76",
   "metadata": {},
   "outputs": [
    {
     "data": {
      "text/plain": [
       "Pipeline(steps=[('Cleaner', Cleaner()),\n",
       "                ('Tokenizador', Tokenizador(lingua='portuguese')),\n",
       "                ('RemoveStopWords', RemoveStopWords(lingua='portuguese')),\n",
       "                ('Stemmer', Stemmer()), ('Joiner', Joiner()),\n",
       "                ('Tfidf', CountVectorizer()),\n",
       "                ('KNN',\n",
       "                 RandomizedSearchCV(cv=StratifiedKFold(n_splits=10, random_state=1, shuffle=True),\n",
       "                                    estimator=KNeighborsClassifier(), n_jobs=-1,\n",
       "                                    param_distributions={'metric': ['euclidean',\n",
       "                                                                    'manhattan',\n",
       "                                                                    'minkowski'],\n",
       "                                                         'n_neighbors': array([ 1,  3,  5,  7,  9, 11, 13, 15, 17, 19, 21, 23, 25])},\n",
       "                                    scoring='accuracy'))])"
      ]
     },
     "execution_count": 37,
     "metadata": {},
     "output_type": "execute_result"
    }
   ],
   "source": [
    "from sklearn.model_selection import RandomizedSearchCV\n",
    "\n",
    "modelo = KNeighborsClassifier()\n",
    "param_grid = {'n_neighbors':np.arange(1,26,2),\n",
    "              'metric': ['euclidean', 'manhattan', 'minkowski']\n",
    "              }\n",
    "kfold = StratifiedKFold(10,shuffle=True, random_state=1)\n",
    "pipeline = Pipeline([(\"Cleaner\", Cleaner()), \n",
    "                    (\"Tokenizador\", Tokenizador(\"portuguese\")), \n",
    "                    (\"RemoveStopWords\", RemoveStopWords(\"portuguese\")), \n",
    "                    (\"Stemmer\", Stemmer()), \n",
    "                    (\"Joiner\", Joiner()),\n",
    "                    (\"Tfidf\", CountVectorizer()),\n",
    "                    (\"KNN\", RandomizedSearchCV(modelo, param_grid, cv=kfold, scoring='accuracy', n_iter=10, n_jobs=-1 )),\n",
    "                    \n",
    "                    ])\n",
    "\n",
    "pipeline.fit(X_train, y_train)"
   ]
  },
  {
   "cell_type": "code",
   "execution_count": 38,
   "id": "b230bf4e",
   "metadata": {},
   "outputs": [
    {
     "name": "stdout",
     "output_type": "stream",
     "text": [
      "0.6748455517964793 {'n_neighbors': 15, 'metric': 'minkowski'}\n",
      "0.6748453563929087 {'n_neighbors': 13, 'metric': 'minkowski'}\n",
      "0.6737619046572242 {'n_neighbors': 7, 'metric': 'minkowski'}\n",
      "0.6706512996413612 {'n_neighbors': 19, 'metric': 'minkowski'}\n",
      "0.6689384530045863 {'n_neighbors': 7, 'metric': 'manhattan'}\n",
      "0.667540694625498 {'n_neighbors': 19, 'metric': 'manhattan'}\n",
      "0.6669812664154264 {'n_neighbors': 5, 'metric': 'euclidean'}\n",
      "0.6669812664154264 {'n_neighbors': 5, 'metric': 'minkowski'}\n",
      "0.6664920125126677 {'n_neighbors': 21, 'metric': 'manhattan'}\n",
      "0.6203907656180578 {'n_neighbors': 1, 'metric': 'minkowski'}\n"
     ]
    }
   ],
   "source": [
    "cvres = pipeline[\"KNN\"].cv_results_\n",
    "idx_args = np.argsort(cvres[\"mean_test_score\"])[::-1]\n",
    "for i in idx_args:\n",
    "    print(cvres[\"mean_test_score\"][i], cvres[\"params\"][i])"
   ]
  },
  {
   "cell_type": "code",
   "execution_count": 39,
   "id": "64a41085",
   "metadata": {},
   "outputs": [
    {
     "name": "stdout",
     "output_type": "stream",
     "text": [
      "              precision    recall  f1-score   support\n",
      "\n",
      "          -1       0.70      0.73      0.72      3208\n",
      "           0       0.43      0.10      0.16      2918\n",
      "           1       0.68      0.92      0.78      6137\n",
      "\n",
      "    accuracy                           0.67     12263\n",
      "   macro avg       0.61      0.58      0.55     12263\n",
      "weighted avg       0.63      0.67      0.62     12263\n",
      "\n",
      "['knn', 'Randomized Search', 0.6747940960613227, 0.5530896659254466, 0.6055195719979736, 0.582619710640465, 'Acuracia', {'n_neighbors': 15, 'metric': 'minkowski'}]\n"
     ]
    }
   ],
   "source": [
    "y_pred = pipeline.predict(X_test)\n",
    "\n",
    "print(classification_report(y_test, y_pred))\n",
    "\n",
    "resultado = pega_resultados(\"knn\", \"Randomized Search\", y_test, y_pred, \"Acuracia\", pipeline[\"KNN\"].best_params_)\n",
    "resultados.append(resultado)\n",
    "print(resultado)"
   ]
  },
  {
   "cell_type": "markdown",
   "id": "c0f44830",
   "metadata": {},
   "source": [
    "## F1 score"
   ]
  },
  {
   "cell_type": "code",
   "execution_count": 40,
   "id": "e3dbdaac",
   "metadata": {},
   "outputs": [
    {
     "name": "stderr",
     "output_type": "stream",
     "text": [
      "C:\\Users\\arm4\\anaconda3\\lib\\site-packages\\sklearn\\model_selection\\_search.py:969: UserWarning: One or more of the test scores are non-finite: [       nan 0.56578774 0.56550262 0.5796137  0.5796137  0.56786535\n",
      " 0.55131506 0.58487379 0.54240695 0.54240695]\n",
      "  warnings.warn(\n"
     ]
    },
    {
     "data": {
      "text/plain": [
       "Pipeline(steps=[('Cleaner', Cleaner()),\n",
       "                ('Tokenizador', Tokenizador(lingua='portuguese')),\n",
       "                ('RemoveStopWords', RemoveStopWords(lingua='portuguese')),\n",
       "                ('Stemmer', Stemmer()), ('Joiner', Joiner()),\n",
       "                ('Tfidf', CountVectorizer()),\n",
       "                ('KNN',\n",
       "                 RandomizedSearchCV(cv=StratifiedKFold(n_splits=10, random_state=1, shuffle=True),\n",
       "                                    estimator=KNeighborsClassifier(), n_jobs=-1,\n",
       "                                    param_distributions={'metric': ['euclidean',\n",
       "                                                                    'manhattan',\n",
       "                                                                    'minkowski'],\n",
       "                                                         'n_neighbors': array([ 1,  3,  5,  7,  9, 11, 13, 15, 17, 19, 21, 23, 25])},\n",
       "                                    scoring='f1_macro'))])"
      ]
     },
     "execution_count": 40,
     "metadata": {},
     "output_type": "execute_result"
    }
   ],
   "source": [
    "modelo = KNeighborsClassifier()\n",
    "param_grid = {'n_neighbors':np.arange(1,26,2),\n",
    "              'metric': ['euclidean', 'manhattan', 'minkowski']\n",
    "              }\n",
    "kfold = StratifiedKFold(10,shuffle=True, random_state=1)\n",
    "pipeline = Pipeline([(\"Cleaner\", Cleaner()), \n",
    "                    (\"Tokenizador\", Tokenizador(\"portuguese\")), \n",
    "                    (\"RemoveStopWords\", RemoveStopWords(\"portuguese\")), \n",
    "                    (\"Stemmer\", Stemmer()), \n",
    "                    (\"Joiner\", Joiner()),\n",
    "                    (\"Tfidf\", CountVectorizer()),\n",
    "                    (\"KNN\", RandomizedSearchCV(modelo, param_grid, cv=kfold, scoring=\"f1_macro\", n_iter=10, n_jobs=-1 )),\n",
    "                    \n",
    "                    ])\n",
    "\n",
    "pipeline.fit(X_train, y_train)"
   ]
  },
  {
   "cell_type": "code",
   "execution_count": 41,
   "id": "e3c54263",
   "metadata": {},
   "outputs": [
    {
     "name": "stdout",
     "output_type": "stream",
     "text": [
      "nan {'n_neighbors': 5, 'metric': 'euclidean'}\n",
      "0.5848737866105851 {'n_neighbors': 5, 'metric': 'minkowski'}\n",
      "0.5796136955220674 {'n_neighbors': 9, 'metric': 'euclidean'}\n",
      "0.5796136955220674 {'n_neighbors': 9, 'metric': 'minkowski'}\n",
      "0.5678653538252896 {'n_neighbors': 13, 'metric': 'euclidean'}\n",
      "0.5657877418560214 {'n_neighbors': 1, 'metric': 'euclidean'}\n",
      "0.5655026176413898 {'n_neighbors': 1, 'metric': 'manhattan'}\n",
      "0.5513150645039735 {'n_neighbors': 17, 'metric': 'manhattan'}\n",
      "0.542406946939024 {'n_neighbors': 23, 'metric': 'euclidean'}\n",
      "0.542406946939024 {'n_neighbors': 23, 'metric': 'minkowski'}\n"
     ]
    }
   ],
   "source": [
    "cvres = pipeline[\"KNN\"].cv_results_\n",
    "idx_args = np.argsort(cvres[\"mean_test_score\"])[::-1]\n",
    "for i in idx_args:\n",
    "    print(cvres[\"mean_test_score\"][i], cvres[\"params\"][i])"
   ]
  },
  {
   "cell_type": "code",
   "execution_count": 42,
   "id": "e22dae9e",
   "metadata": {},
   "outputs": [
    {
     "name": "stdout",
     "output_type": "stream",
     "text": [
      "              precision    recall  f1-score   support\n",
      "\n",
      "          -1       0.70      0.75      0.72      3208\n",
      "           0       0.37      0.19      0.25      2918\n",
      "           1       0.71      0.85      0.78      6137\n",
      "\n",
      "    accuracy                           0.67     12263\n",
      "   macro avg       0.59      0.60      0.58     12263\n",
      "weighted avg       0.63      0.67      0.64     12263\n",
      "\n",
      "['knn', 'Randomized Search', 0.6671287613145234, 0.5829834250918987, 0.5943353621463708, 0.5968348436829974, 'F1score', {'n_neighbors': 5, 'metric': 'minkowski'}]\n"
     ]
    }
   ],
   "source": [
    "y_pred = pipeline.predict(X_test)\n",
    "\n",
    "print(classification_report(y_test, y_pred))\n",
    "\n",
    "resultado = pega_resultados(\"knn\", \"Randomized Search\", y_test, y_pred, \"F1score\", pipeline[\"KNN\"].best_params_)\n",
    "resultados.append(resultado)\n",
    "print(resultado)"
   ]
  },
  {
   "cell_type": "code",
   "execution_count": 43,
   "id": "ff9714c8",
   "metadata": {},
   "outputs": [],
   "source": [
    "salvando_em_arquivo(\"resultados/KNN_resultados.csv\", resultados)"
   ]
  }
 ],
 "metadata": {
  "interpreter": {
   "hash": "d5f6ca866bada2297d8fd83be4f6138ccbd7745b9651ccd132432817d094bcf3"
  },
  "kernelspec": {
   "display_name": "Python 3.8.8 64-bit ('base': conda)",
   "name": "python3"
  },
  "language_info": {
   "codemirror_mode": {
    "name": "ipython",
    "version": 3
   },
   "file_extension": ".py",
   "mimetype": "text/x-python",
   "name": "python",
   "nbconvert_exporter": "python",
   "pygments_lexer": "ipython3",
   "version": "3.9.7"
  }
 },
 "nbformat": 4,
 "nbformat_minor": 5
}
